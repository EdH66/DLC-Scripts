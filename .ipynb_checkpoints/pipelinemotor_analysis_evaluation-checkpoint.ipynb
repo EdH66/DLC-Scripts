{
 "cells": [
  {
   "cell_type": "markdown",
   "id": "eb3b76e9",
   "metadata": {},
   "source": [
    "# Pipeline for analysis and evaluation of videos with pre-trained DLC network"
   ]
  },
  {
   "cell_type": "markdown",
   "id": "9a6d38e6",
   "metadata": {},
   "source": [
    "### Import DLC"
   ]
  },
  {
   "cell_type": "code",
   "execution_count": 1,
   "id": "89126aec",
   "metadata": {
    "scrolled": true
   },
   "outputs": [
    {
     "name": "stdout",
     "output_type": "stream",
     "text": [
      "Loading DLC 2.2.2...\n"
     ]
    },
    {
     "name": "stderr",
     "output_type": "stream",
     "text": [
      "C:\\Users\\Edwar\\.conda\\envs\\DEEPLABCUT\\lib\\site-packages\\deeplabcut\\__init__.py:81: UserWarning: \n",
      "        As PyTorch is not installed, unsupervised identity learning will not be available.\n",
      "        Please run `pip install torch`, or ignore this warning.\n",
      "        \n",
      "  warnings.warn(\n"
     ]
    }
   ],
   "source": [
    "import deeplabcut\n",
    "from PathGeneral_Func import GetFilePaths\n",
    "import os\n",
    "#consider removing PathGeneral_Func above"
   ]
  },
  {
   "cell_type": "code",
   "execution_count": null,
   "id": "8c3202e9",
   "metadata": {},
   "outputs": [],
   "source": []
  },
  {
   "cell_type": "markdown",
   "id": "b190c29e",
   "metadata": {},
   "source": [
    "   ### Select config file and unfiltered videos analyse and evaluate\n",
    "  "
   ]
  },
  {
   "cell_type": "code",
   "execution_count": null,
   "id": "3cc16753",
   "metadata": {
    "scrolled": true
   },
   "outputs": [],
   "source": [
    "Videos_Dir      = r\"C:\\Users\\Edwar\\Documents\\deeplabcut\\DLC_TRN_MOTOR_021022-ECH-2022-11-02\\videos\"\n",
    "Videos_Paths    = GetFilePaths(Videos_Dir, '.avi')\n",
    "#Videos_Paths = GetFilePaths(Videos_Dir, '.avi') # If only 1 movie uses function in cell above\n",
    "\n",
    "# Select config file from project #\n",
    "from tkinter import filedialog\n",
    "config = filedialog.askopenfilenames(title='Choose the config file of your DeepLabCut project:')\n",
    "path_config_file = config[0]\n",
    "\n",
    "print(Videos_Paths)\n",
    "\n",
    "# consider selecting all paths above. "
   ]
  },
  {
   "cell_type": "code",
   "execution_count": null,
   "id": "4ae87475",
   "metadata": {},
   "outputs": [],
   "source": [
    "# Add new videos (to config file)\n",
    "deeplabcut.add_new_videos(path_config_file, Videos_Paths, copy_videos=False)\n",
    "print(\"New videos added\")"
   ]
  },
  {
   "cell_type": "code",
   "execution_count": null,
   "id": "a27e94ba",
   "metadata": {},
   "outputs": [],
   "source": [
    "# Evaluate network\n",
    "\n",
    "deeplabcut.evaluate_network(config_path, plotting=True)\n",
    "\n",
    "# deeplabcut.evaluate_network(config_path,Shuffles=[1], plotting=True)\n"
   ]
  },
  {
   "cell_type": "code",
   "execution_count": null,
   "id": "ba5ccbd3",
   "metadata": {},
   "outputs": [],
   "source": [
    "print(\"Start Analyze Videos\")\n",
    "deeplabcut.analyze_videos(path_config_file, Videos_Dir, videotype='.avi', save_as_csv=True, gputouse=os.environ.get(\"CUDA_VISIBLE_DEVICES\"))\n",
    "print(\"Video analysis complete\")\n",
    "\n"
   ]
  },
  {
   "cell_type": "code",
   "execution_count": null,
   "id": "4b31dbba",
   "metadata": {},
   "outputs": [],
   "source": [
    "print(\"Creating labeled videos\")\n",
    "deeplabcut.create_labeled_video(config_path, Video_Dir, save_frames=False, draw_skeleton=False)\n",
    "print(\"Labeled videos created\")"
   ]
  },
  {
   "cell_type": "code",
   "execution_count": null,
   "id": "dfed2d40",
   "metadata": {},
   "outputs": [],
   "source": []
  },
  {
   "cell_type": "markdown",
   "id": "0a810fe5",
   "metadata": {},
   "source": [
    "### Add plot trajectories for each video in video directory "
   ]
  },
  {
   "cell_type": "code",
   "execution_count": 5,
   "id": "92a92238",
   "metadata": {},
   "outputs": [
    {
     "name": "stdout",
     "output_type": "stream",
     "text": [
      "Loading  C:\\Users\\Edwar\\Documents\\deeplabcut\\DLC_TRN_MOTOR_021022-ECH-2022-11-02\\videos\\04102022_M00817915_1R_NBH_MET_LOCOMOTION_WK16.avi and data.\n",
      "Loading  C:\\Users\\Edwar\\Documents\\deeplabcut\\DLC_TRN_MOTOR_021022-ECH-2022-11-02\\videos\\04102022_M00817934_NM_NBH_FLX_LOCOMOTION_WK16.avi and data.\n",
      "Loading  C:\\Users\\Edwar\\Documents\\deeplabcut\\DLC_TRN_MOTOR_021022-ECH-2022-11-02\\videos\\060522_MC_NBH_M00708458_1L_CD_19wk.avi and data.\n",
      "Loading  C:\\Users\\Edwar\\Documents\\deeplabcut\\DLC_TRN_MOTOR_021022-ECH-2022-11-02\\videos\\061022_MC_RML_M00817907_NM_CD_SEM100_16wk.avi and data.\n",
      "Loading  C:\\Users\\Edwar\\Documents\\deeplabcut\\DLC_TRN_MOTOR_021022-ECH-2022-11-02\\videos\\061022_MC_RML_M00817965_1L_CD_SLN_16wk.avi and data.\n",
      "Loading  C:\\Users\\Edwar\\Documents\\deeplabcut\\DLC_TRN_MOTOR_021022-ECH-2022-11-02\\videos\\071022_MC_NBH_M00817922_NM_CD_MET_16wk.avi and data.\n",
      "Loading  C:\\Users\\Edwar\\Documents\\deeplabcut\\DLC_TRN_MOTOR_021022-ECH-2022-11-02\\videos\\071022_MC_NBH_M00817968_1L_CD_VEH_16wk.avi and data.\n",
      "Loading  C:\\Users\\Edwar\\Documents\\deeplabcut\\DLC_TRN_MOTOR_021022-ECH-2022-11-02\\videos\\071022_MC_RML_M00817920_1L_CD_MET_16wk.avi and data.\n",
      "Loading  C:\\Users\\Edwar\\Documents\\deeplabcut\\DLC_TRN_MOTOR_021022-ECH-2022-11-02\\videos\\071022_MC_RML_M00817976_NM_CD_VEH_16wk.avi and data.\n",
      "Loading  C:\\Users\\Edwar\\Documents\\deeplabcut\\DLC_TRN_MOTOR_021022-ECH-2022-11-02\\videos\\080522_MC_NBH_M00708460_NM_CD_19wk.avi and data.\n",
      "Loading  C:\\Users\\Edwar\\Documents\\deeplabcut\\DLC_TRN_MOTOR_021022-ECH-2022-11-02\\videos\\080522_MC_NBH_M00708471_1R_CD_MET_19wk.avi and data.\n",
      "Loading  C:\\Users\\Edwar\\Documents\\deeplabcut\\DLC_TRN_MOTOR_021022-ECH-2022-11-02\\videos\\090622_MC_RML_M00726222_1L_CD_MET_19wk.avi and data.\n",
      "Loading  C:\\Users\\Edwar\\Documents\\deeplabcut\\DLC_TRN_MOTOR_021022-ECH-2022-11-02\\videos\\090622_MC_RML_M00726224_NM_CD_MET_19wk.avi and data.\n",
      "Loading  C:\\Users\\Edwar\\Documents\\deeplabcut\\DLC_TRN_MOTOR_021022-ECH-2022-11-02\\videos\\090622_MC_RML_M00726277_1R_CD_FLX_19wk.avi and data.\n",
      "Loading  C:\\Users\\Edwar\\Documents\\deeplabcut\\DLC_TRN_MOTOR_021022-ECH-2022-11-02\\videos\\120622_MC_RML_M00726242_NM_CD_SLN_19wk.avi and data.\n",
      "Loading  C:\\Users\\Edwar\\Documents\\deeplabcut\\DLC_TRN_MOTOR_021022-ECH-2022-11-02\\videos\\120622_MC_RML_M00726253_1R_CD_FLX_19wk.avi and data.\n",
      "Loading  C:\\Users\\Edwar\\Documents\\deeplabcut\\DLC_TRN_MOTOR_021022-ECH-2022-11-02\\videos\\16092022_M0017919_NM_RML_MET_MOTOR_WK13.avi and data.\n",
      "Loading  C:\\Users\\Edwar\\Documents\\deeplabcut\\DLC_TRN_MOTOR_021022-ECH-2022-11-02\\videos\\16092022_M0017934_NM_NBH_FLX_MOTOR_WK13.avi and data.\n",
      "Loading  C:\\Users\\Edwar\\Documents\\deeplabcut\\DLC_TRN_MOTOR_021022-ECH-2022-11-02\\videos\\16092022_M0017936_1R_NBH_FLX_MOTOR_WK13.avi and data.\n",
      "Loading  C:\\Users\\Edwar\\Documents\\deeplabcut\\DLC_TRN_MOTOR_021022-ECH-2022-11-02\\videos\\16092022_M0017939_1R_RML_VEH_MOTOR_WK13.avi and data.\n",
      "Loading  C:\\Users\\Edwar\\Documents\\deeplabcut\\DLC_TRN_MOTOR_021022-ECH-2022-11-02\\videos\\16092022_M0017962_1L_NBH_VEH_MOTOR_WK13.avi and data.\n",
      "Loading  C:\\Users\\Edwar\\Documents\\deeplabcut\\DLC_TRN_MOTOR_021022-ECH-2022-11-02\\videos\\16092022_M0017965_1L_RML_SAL_MOTOR_WK13.avi and data.\n",
      "Loading  C:\\Users\\Edwar\\Documents\\deeplabcut\\DLC_TRN_MOTOR_021022-ECH-2022-11-02\\videos\\16092022_M0017968_1L_NBH_VEH_MOTOR_WK13.avi and data.\n",
      "Loading  C:\\Users\\Edwar\\Documents\\deeplabcut\\DLC_TRN_MOTOR_021022-ECH-2022-11-02\\videos\\200622_MC_RML_M00726228_1L_CD_VEH_20w.avi and data.\n",
      "Loading  C:\\Users\\Edwar\\Documents\\deeplabcut\\DLC_TRN_MOTOR_021022-ECH-2022-11-02\\videos\\210622_MC_NBH_M00726218_NM_CD_SLN_20wk.avi and data.\n",
      "Loading  C:\\Users\\Edwar\\Documents\\deeplabcut\\DLC_TRN_MOTOR_021022-ECH-2022-11-02\\videos\\210622_MC_NBH_M00726260_NM_CD_SEM_20wk.avi and data.\n",
      "Loading  C:\\Users\\Edwar\\Documents\\deeplabcut\\DLC_TRN_MOTOR_021022-ECH-2022-11-02\\videos\\210622_MC_RML_M00726242_NM_CD_SLN_20w.avi and data.\n",
      "Loading  C:\\Users\\Edwar\\Documents\\deeplabcut\\DLC_TRN_MOTOR_021022-ECH-2022-11-02\\videos\\210622_MC_RML_M00726252_1L_CD_FLX_20w.avi and data.\n",
      "Loading  C:\\Users\\Edwar\\Documents\\deeplabcut\\DLC_TRN_MOTOR_021022-ECH-2022-11-02\\videos\\210622_MC_RML_M00726272_NM_CD_SLN_20w.avi and data.\n",
      "Loading  C:\\Users\\Edwar\\Documents\\deeplabcut\\DLC_TRN_MOTOR_021022-ECH-2022-11-02\\videos\\210622_MC_RML_M00726273_1L_CD_SLN_20w.avi and data.\n",
      "Loading  C:\\Users\\Edwar\\Documents\\deeplabcut\\DLC_TRN_MOTOR_021022-ECH-2022-11-02\\videos\\210622_MC_RML_M00726274_NM_CD_SLN_20w.avi and data.\n",
      "Loading  C:\\Users\\Edwar\\Documents\\deeplabcut\\DLC_TRN_MOTOR_021022-ECH-2022-11-02\\videos\\220522_MC_NBH_M00726237_1L_CD_SEM_16wk.avi and data.\n",
      "Loading  C:\\Users\\Edwar\\Documents\\deeplabcut\\DLC_TRN_MOTOR_021022-ECH-2022-11-02\\videos\\220522_MC_NBH_M00726262_1R_CD_SEM_16wk.avi and data.\n",
      "Loading  C:\\Users\\Edwar\\Documents\\deeplabcut\\DLC_TRN_MOTOR_021022-ECH-2022-11-02\\videos\\220522_MC_RML_M00726245_NM_CD_FLX_16wk.avi and data.\n",
      "Loading  C:\\Users\\Edwar\\Documents\\deeplabcut\\DLC_TRN_MOTOR_021022-ECH-2022-11-02\\videos\\220622_MC_RML_M00726239_NM_CD_SLN_20w_R2.avi and data.\n",
      "Loading  C:\\Users\\Edwar\\Documents\\deeplabcut\\DLC_TRN_MOTOR_021022-ECH-2022-11-02\\videos\\220622_MC_RML_M00726240_1L_CD_SLN_20w.avi and data.\n",
      "Loading  C:\\Users\\Edwar\\Documents\\deeplabcut\\DLC_TRN_MOTOR_021022-ECH-2022-11-02\\videos\\220622_MC_RML_M00726241_1R_CD_SLN_20w.avi and data.\n",
      "Loading  C:\\Users\\Edwar\\Documents\\deeplabcut\\DLC_TRN_MOTOR_021022-ECH-2022-11-02\\videos\\220622_MC_RML_M00726242_NM_CD_SLN_20w.avi and data.\n",
      "Loading  C:\\Users\\Edwar\\Documents\\deeplabcut\\DLC_TRN_MOTOR_021022-ECH-2022-11-02\\videos\\220622_MC_RML_M00726243_1L_CD_SLN_20w.avi and data.\n",
      "Loading  C:\\Users\\Edwar\\Documents\\deeplabcut\\DLC_TRN_MOTOR_021022-ECH-2022-11-02\\videos\\220622_MC_RML_M00726244_1R_CD_SLN_20w.avi and data.\n",
      "Loading  C:\\Users\\Edwar\\Documents\\deeplabcut\\DLC_TRN_MOTOR_021022-ECH-2022-11-02\\videos\\230522_MC_RML_M00726223_1R_CD_MET_16wk.avi and data.\n",
      "Loading  C:\\Users\\Edwar\\Documents\\deeplabcut\\DLC_TRN_MOTOR_021022-ECH-2022-11-02\\videos\\271022_MC_NBH_M00817959_1L_FLX_WK19.avi and data.\n",
      "Loading  C:\\Users\\Edwar\\Documents\\deeplabcut\\DLC_TRN_MOTOR_021022-ECH-2022-11-02\\videos\\271022_MC_NBH_M00817960_1R_FLX_WK19.avi and data.\n",
      "Loading  C:\\Users\\Edwar\\Documents\\deeplabcut\\DLC_TRN_MOTOR_021022-ECH-2022-11-02\\videos\\271022_MC_NBH_M00817968_1L_VEH_WK19.avi and data.\n",
      "Loading  C:\\Users\\Edwar\\Documents\\deeplabcut\\DLC_TRN_MOTOR_021022-ECH-2022-11-02\\videos\\281022_MC_NBH_M00817947_1L_VEH_WK19.avi and data.\n",
      "Loading  C:\\Users\\Edwar\\Documents\\deeplabcut\\DLC_TRN_MOTOR_021022-ECH-2022-11-02\\videos\\SP131391_M00989854_NM_RML_SEMA100_MOTOR_WEEK_19_19072023.avi and data.\n",
      "Loading  C:\\Users\\Edwar\\Documents\\deeplabcut\\DLC_TRN_MOTOR_021022-ECH-2022-11-02\\videos\\SP131391_M00989855_TL_RML_SEMA100_MOTOR_WEEK_19_19072023.avi and data.\n",
      "Loading  C:\\Users\\Edwar\\Documents\\deeplabcut\\DLC_TRN_MOTOR_021022-ECH-2022-11-02\\videos\\SP131391_M00989856_TR_RML_SEMA100_MOTOR_WEEK_19_19072023.avi and data.\n",
      "Loading  C:\\Users\\Edwar\\Documents\\deeplabcut\\DLC_TRN_MOTOR_021022-ECH-2022-11-02\\videos\\SP131391_M00989857_NM_RML_PIO_MOTOR_WEEK_19_18072023.avi and data.\n",
      "Loading  C:\\Users\\Edwar\\Documents\\deeplabcut\\DLC_TRN_MOTOR_021022-ECH-2022-11-02\\videos\\SP131391_M00989858_TL_RML_PIO_MOTOR_WEEK_19_18072023.avi and data.\n",
      "Loading  C:\\Users\\Edwar\\Documents\\deeplabcut\\DLC_TRN_MOTOR_021022-ECH-2022-11-02\\videos\\SP131391_M00989859_TR_RML_PIO_MOTOR_WEEK_19_18072023.avi and data.\n",
      "Loading  C:\\Users\\Edwar\\Documents\\deeplabcut\\DLC_TRN_MOTOR_021022-ECH-2022-11-02\\videos\\SP131391_M00989860_NM_RML_PIO_MOTOR_WEEK_19_18072023.avi and data.\n",
      "Loading  C:\\Users\\Edwar\\Documents\\deeplabcut\\DLC_TRN_MOTOR_021022-ECH-2022-11-02\\videos\\SP131391_M00989861_TL_RML_PIO_MOTOR_WEEK_19_18072023.avi and data.\n",
      "Loading  C:\\Users\\Edwar\\Documents\\deeplabcut\\DLC_TRN_MOTOR_021022-ECH-2022-11-02\\videos\\SP131391_M00989862_TR_RML_PIO_MOTOR_WEEK_19_18072023.avi and data.\n",
      "Loading  C:\\Users\\Edwar\\Documents\\deeplabcut\\DLC_TRN_MOTOR_021022-ECH-2022-11-02\\videos\\SP131391_M00989866_NM_RML_SALINE_MOTOR_WEEK_19_18072023.avi and data.\n",
      "Loading  C:\\Users\\Edwar\\Documents\\deeplabcut\\DLC_TRN_MOTOR_021022-ECH-2022-11-02\\videos\\SP131391_M00989867_TL_RML_SALINE_MOTOR_WEEK_19_18072023.avi and data.\n",
      "Loading  C:\\Users\\Edwar\\Documents\\deeplabcut\\DLC_TRN_MOTOR_021022-ECH-2022-11-02\\videos\\SP131391_M00989868_TR_RML_SALINE_MOTOR_WEEK_19_18072023.avi and data.\n"
     ]
    },
    {
     "name": "stdout",
     "output_type": "stream",
     "text": [
      "Loading  C:\\Users\\Edwar\\Documents\\deeplabcut\\DLC_TRN_MOTOR_021022-ECH-2022-11-02\\videos\\SP131391_M00989869_NM_RML_SEMA100_MOTOR_WEEK_19_19072023.avi and data.\n",
      "Loading  C:\\Users\\Edwar\\Documents\\deeplabcut\\DLC_TRN_MOTOR_021022-ECH-2022-11-02\\videos\\SP131391_M00989870_TL_RML_SEMA100_MOTOR_WEEK_19_19072023.avi and data.\n",
      "Loading  C:\\Users\\Edwar\\Documents\\deeplabcut\\DLC_TRN_MOTOR_021022-ECH-2022-11-02\\videos\\SP131391_M00989871_TR_RML_SEMA100_MOTOR_WEEK_19_19072023.avi and data.\n",
      "Loading  C:\\Users\\Edwar\\Documents\\deeplabcut\\DLC_TRN_MOTOR_021022-ECH-2022-11-02\\videos\\SP131391_M00989872_NM_RML_CD_ONLY_MOTOR_WEEK_19_19072023.avi and data.\n",
      "Loading  C:\\Users\\Edwar\\Documents\\deeplabcut\\DLC_TRN_MOTOR_021022-ECH-2022-11-02\\videos\\SP131391_M00989873_TL_RML_CD_ONLY_MOTOR_WEEK_19_19072023.avi and data.\n",
      "Loading  C:\\Users\\Edwar\\Documents\\deeplabcut\\DLC_TRN_MOTOR_021022-ECH-2022-11-02\\videos\\SP131391_M00989874_TR_RML_CD_ONLY_MOTOR_WEEK_19_19072023.avi and data.\n",
      "Loading  C:\\Users\\Edwar\\Documents\\deeplabcut\\DLC_TRN_MOTOR_021022-ECH-2022-11-02\\videos\\SP131391_M00989881_NM_RML_PIO_MOTOR_WEEK_19_19072023.avi and data.\n",
      "Loading  C:\\Users\\Edwar\\Documents\\deeplabcut\\DLC_TRN_MOTOR_021022-ECH-2022-11-02\\videos\\SP131391_M00989882_TL_RML_PIO_MOTOR_WEEK_19_19072023.avi and data.\n",
      "Loading  C:\\Users\\Edwar\\Documents\\deeplabcut\\DLC_TRN_MOTOR_021022-ECH-2022-11-02\\videos\\SP131391_M00989883_TR_RML_PIO_MOTOR_WEEK_19_19072023.avi and data.\n",
      "Loading  C:\\Users\\Edwar\\Documents\\deeplabcut\\DLC_TRN_MOTOR_021022-ECH-2022-11-02\\videos\\SP131391_M00989884_NM_RML_SEMA100_MOTOR_WEEK_19_18072023.avi and data.\n",
      "Loading  C:\\Users\\Edwar\\Documents\\deeplabcut\\DLC_TRN_MOTOR_021022-ECH-2022-11-02\\videos\\SP131391_M00989885_TL_RML_SEMA100_MOTOR_WEEK_19_18072023.avi and data.\n",
      "Loading  C:\\Users\\Edwar\\Documents\\deeplabcut\\DLC_TRN_MOTOR_021022-ECH-2022-11-02\\videos\\SP131391_M00989886_TR_RML_SEMA100_MOTOR_WEEK_19_18072023.avi and data.\n",
      "Loading  C:\\Users\\Edwar\\Documents\\deeplabcut\\DLC_TRN_MOTOR_021022-ECH-2022-11-02\\videos\\SP131391_M00989893_NM_RML_PIO_MOTOR_WEEK_19_18072023.avi and data.\n",
      "Loading  C:\\Users\\Edwar\\Documents\\deeplabcut\\DLC_TRN_MOTOR_021022-ECH-2022-11-02\\videos\\SP131391_M00989894_TL_RML_PIO_MOTOR_WEEK_19_18072023.avi and data.\n",
      "Loading  C:\\Users\\Edwar\\Documents\\deeplabcut\\DLC_TRN_MOTOR_021022-ECH-2022-11-02\\videos\\SP131391_M00989895_TR_RML_PIO_MOTOR_WEEK_19_18072023.avi and data.\n",
      "Loading  C:\\Users\\Edwar\\Documents\\deeplabcut\\DLC_TRN_MOTOR_021022-ECH-2022-11-02\\videos\\SP131391_M00989902_NM_RML_SEMA100_MOTOR_WEEK_19_18072023.avi and data.\n",
      "Loading  C:\\Users\\Edwar\\Documents\\deeplabcut\\DLC_TRN_MOTOR_021022-ECH-2022-11-02\\videos\\SP131391_M00989903_TL_RML_SEMA100_MOTOR_WEEK_19_18072023.avi and data.\n",
      "Loading  C:\\Users\\Edwar\\Documents\\deeplabcut\\DLC_TRN_MOTOR_021022-ECH-2022-11-02\\videos\\SP131391_M00989904_TR_RML_SEMA100_MOTOR_WEEK_19_18072023.avi and data.\n",
      "Loading  C:\\Users\\Edwar\\Documents\\deeplabcut\\DLC_TRN_MOTOR_021022-ECH-2022-11-02\\videos\\SP131391_M00989905_NM_RML_CD_ONLY_MOTOR_WEEK_19_18072023.avi and data.\n",
      "Loading  C:\\Users\\Edwar\\Documents\\deeplabcut\\DLC_TRN_MOTOR_021022-ECH-2022-11-02\\videos\\SP131391_M00989906_TL_RML_CD_ONLY_MOTOR_WEEK_19_18072023.avi and data.\n",
      "Loading  C:\\Users\\Edwar\\Documents\\deeplabcut\\DLC_TRN_MOTOR_021022-ECH-2022-11-02\\videos\\SP131391_M00989907_TR_RML_CD_ONLY_MOTOR_WEEK_19_18072023.avi and data.\n",
      "Plots created! Please check the directory \"plot-poses\" within the video directory\n"
     ]
    }
   ],
   "source": [
    "from tkinter import filedialog\n",
    "import deeplabcut\n",
    "\n",
    "# Open a file dialog to select the DeepLabCut configuration file\n",
    "config_archive = filedialog.askopenfilenames(title='Choose the config file of your DeepLabCut project:')\n",
    "path_config_file = config_archive[0] if config_archive else None\n",
    "\n",
    "if path_config_file:\n",
    "    deeplabcut.plot_trajectories(path_config_file, Videos_Paths, videotype='.avi', track_method='box')\n",
    "else:\n",
    "    print(\"No config file selected. Please select a file.\")\n"
   ]
  }
 ],
 "metadata": {
  "kernelspec": {
   "display_name": "Python [conda env:.conda-DEEPLABCUT] *",
   "language": "python",
   "name": "conda-env-.conda-DEEPLABCUT-py"
  },
  "language_info": {
   "codemirror_mode": {
    "name": "ipython",
    "version": 3
   },
   "file_extension": ".py",
   "mimetype": "text/x-python",
   "name": "python",
   "nbconvert_exporter": "python",
   "pygments_lexer": "ipython3",
   "version": "3.8.13"
  }
 },
 "nbformat": 4,
 "nbformat_minor": 5
}
