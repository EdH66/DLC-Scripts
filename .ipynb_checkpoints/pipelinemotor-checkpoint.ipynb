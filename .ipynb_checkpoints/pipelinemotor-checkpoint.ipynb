{
 "cells": [
  {
   "cell_type": "markdown",
   "id": "9a6d38e6",
   "metadata": {},
   "source": [
    "# Labelling"
   ]
  },
  {
   "cell_type": "code",
   "execution_count": 1,
   "id": "89126aec",
   "metadata": {
    "scrolled": true
   },
   "outputs": [
    {
     "name": "stdout",
     "output_type": "stream",
     "text": [
      "Loading DLC 2.2.2...\n"
     ]
    },
    {
     "name": "stderr",
     "output_type": "stream",
     "text": [
      "C:\\Users\\Edwar\\.conda\\envs\\DEEPLABCUT\\lib\\site-packages\\deeplabcut\\__init__.py:81: UserWarning: \n",
      "        As PyTorch is not installed, unsupervised identity learning will not be available.\n",
      "        Please run `pip install torch`, or ignore this warning.\n",
      "        \n",
      "  warnings.warn(\n"
     ]
    }
   ],
   "source": [
    "import deeplabcut\n",
    "from PathGeneral_Func import GetFilePaths\n",
    "import os"
   ]
  },
  {
   "cell_type": "markdown",
   "id": "8d87be0b",
   "metadata": {},
   "source": [
    "### Gather videos to analyse"
   ]
  },
  {
   "cell_type": "code",
   "execution_count": 11,
   "id": "3cc16753",
   "metadata": {},
   "outputs": [
    {
     "name": "stdout",
     "output_type": "stream",
     "text": [
      "['C:\\\\Users\\\\Edwar\\\\Documents\\\\deeplabcut\\\\Motor videos for training\\\\DLC Motor Training Set\\\\04102022_M00817915_1R_NBH_MET_LOCOMOTION_WK16.avi', 'C:\\\\Users\\\\Edwar\\\\Documents\\\\deeplabcut\\\\Motor videos for training\\\\DLC Motor Training Set\\\\04102022_M00817934_NM_NBH_FLX_LOCOMOTION_WK16.avi', 'C:\\\\Users\\\\Edwar\\\\Documents\\\\deeplabcut\\\\Motor videos for training\\\\DLC Motor Training Set\\\\060522_MC_NBH_M00708458_1L_CD_19wk.avi', 'C:\\\\Users\\\\Edwar\\\\Documents\\\\deeplabcut\\\\Motor videos for training\\\\DLC Motor Training Set\\\\061022_MC_RML_M00817907_NM_CD_SEM100_16wk.avi', 'C:\\\\Users\\\\Edwar\\\\Documents\\\\deeplabcut\\\\Motor videos for training\\\\DLC Motor Training Set\\\\061022_MC_RML_M00817965_1L_CD_SLN_16wk.avi', 'C:\\\\Users\\\\Edwar\\\\Documents\\\\deeplabcut\\\\Motor videos for training\\\\DLC Motor Training Set\\\\071022_MC_NBH_M00817922_NM_CD_MET_16wk.avi', 'C:\\\\Users\\\\Edwar\\\\Documents\\\\deeplabcut\\\\Motor videos for training\\\\DLC Motor Training Set\\\\071022_MC_NBH_M00817968_1L_CD_VEH_16wk.avi', 'C:\\\\Users\\\\Edwar\\\\Documents\\\\deeplabcut\\\\Motor videos for training\\\\DLC Motor Training Set\\\\071022_MC_RML_M00817920_1L_CD_MET_16wk.avi', 'C:\\\\Users\\\\Edwar\\\\Documents\\\\deeplabcut\\\\Motor videos for training\\\\DLC Motor Training Set\\\\071022_MC_RML_M00817976_NM_CD_VEH_16wk.avi', 'C:\\\\Users\\\\Edwar\\\\Documents\\\\deeplabcut\\\\Motor videos for training\\\\DLC Motor Training Set\\\\080522_MC_NBH_M00708460_NM_CD_19wk.avi', 'C:\\\\Users\\\\Edwar\\\\Documents\\\\deeplabcut\\\\Motor videos for training\\\\DLC Motor Training Set\\\\080522_MC_NBH_M00708471_1R_CD_MET_19wk.avi', 'C:\\\\Users\\\\Edwar\\\\Documents\\\\deeplabcut\\\\Motor videos for training\\\\DLC Motor Training Set\\\\090622_MC_RML_M00726222_1L_CD_MET_19wk.avi', 'C:\\\\Users\\\\Edwar\\\\Documents\\\\deeplabcut\\\\Motor videos for training\\\\DLC Motor Training Set\\\\090622_MC_RML_M00726224_NM_CD_MET_19wk.avi', 'C:\\\\Users\\\\Edwar\\\\Documents\\\\deeplabcut\\\\Motor videos for training\\\\DLC Motor Training Set\\\\090622_MC_RML_M00726277_1R_CD_FLX_19wk.avi', 'C:\\\\Users\\\\Edwar\\\\Documents\\\\deeplabcut\\\\Motor videos for training\\\\DLC Motor Training Set\\\\120622_MC_RML_M00726242_NM_CD_SLN_19wk.avi', 'C:\\\\Users\\\\Edwar\\\\Documents\\\\deeplabcut\\\\Motor videos for training\\\\DLC Motor Training Set\\\\120622_MC_RML_M00726253_1R_CD_FLX_19wk.avi', 'C:\\\\Users\\\\Edwar\\\\Documents\\\\deeplabcut\\\\Motor videos for training\\\\DLC Motor Training Set\\\\16092022_M0017919_NM_RML_MET_MOTOR_WK13.avi', 'C:\\\\Users\\\\Edwar\\\\Documents\\\\deeplabcut\\\\Motor videos for training\\\\DLC Motor Training Set\\\\16092022_M0017934_NM_NBH_FLX_MOTOR_WK13.avi', 'C:\\\\Users\\\\Edwar\\\\Documents\\\\deeplabcut\\\\Motor videos for training\\\\DLC Motor Training Set\\\\16092022_M0017936_1R_NBH_FLX_MOTOR_WK13.avi', 'C:\\\\Users\\\\Edwar\\\\Documents\\\\deeplabcut\\\\Motor videos for training\\\\DLC Motor Training Set\\\\16092022_M0017939_1R_RML_VEH_MOTOR_WK13.avi', 'C:\\\\Users\\\\Edwar\\\\Documents\\\\deeplabcut\\\\Motor videos for training\\\\DLC Motor Training Set\\\\16092022_M0017962_1L_NBH_VEH_MOTOR_WK13.avi', 'C:\\\\Users\\\\Edwar\\\\Documents\\\\deeplabcut\\\\Motor videos for training\\\\DLC Motor Training Set\\\\16092022_M0017965_1L_RML_SAL_MOTOR_WK13.avi', 'C:\\\\Users\\\\Edwar\\\\Documents\\\\deeplabcut\\\\Motor videos for training\\\\DLC Motor Training Set\\\\16092022_M0017968_1L_NBH_VEH_MOTOR_WK13.avi', 'C:\\\\Users\\\\Edwar\\\\Documents\\\\deeplabcut\\\\Motor videos for training\\\\DLC Motor Training Set\\\\200622_MC_RML_M00726228_1L_CD_VEH_20w.avi', 'C:\\\\Users\\\\Edwar\\\\Documents\\\\deeplabcut\\\\Motor videos for training\\\\DLC Motor Training Set\\\\210622_MC_NBH_M00726218_NM_CD_SLN_20wk.avi', 'C:\\\\Users\\\\Edwar\\\\Documents\\\\deeplabcut\\\\Motor videos for training\\\\DLC Motor Training Set\\\\210622_MC_NBH_M00726260_NM_CD_SEM_20wk.avi', 'C:\\\\Users\\\\Edwar\\\\Documents\\\\deeplabcut\\\\Motor videos for training\\\\DLC Motor Training Set\\\\210622_MC_RML_M00726252_1L_CD_FLX_20w.avi', 'C:\\\\Users\\\\Edwar\\\\Documents\\\\deeplabcut\\\\Motor videos for training\\\\DLC Motor Training Set\\\\220522_MC_NBH_M00726237_1L_CD_SEM_16wk.avi', 'C:\\\\Users\\\\Edwar\\\\Documents\\\\deeplabcut\\\\Motor videos for training\\\\DLC Motor Training Set\\\\220522_MC_NBH_M00726262_1R_CD_SEM_16wk.avi', 'C:\\\\Users\\\\Edwar\\\\Documents\\\\deeplabcut\\\\Motor videos for training\\\\DLC Motor Training Set\\\\220522_MC_RML_M00726245_NM_CD_FLX_16wk.avi', 'C:\\\\Users\\\\Edwar\\\\Documents\\\\deeplabcut\\\\Motor videos for training\\\\DLC Motor Training Set\\\\230522_MC_RML_M00726223_1R_CD_MET_16wk.avi', 'C:\\\\Users\\\\Edwar\\\\Documents\\\\deeplabcut\\\\Motor videos for training\\\\DLC Motor Training Set\\\\271022_MC_NBH_M00817959_1L_FLX_WK19.avi', 'C:\\\\Users\\\\Edwar\\\\Documents\\\\deeplabcut\\\\Motor videos for training\\\\DLC Motor Training Set\\\\271022_MC_NBH_M00817960_1R_FLX_WK19.avi', 'C:\\\\Users\\\\Edwar\\\\Documents\\\\deeplabcut\\\\Motor videos for training\\\\DLC Motor Training Set\\\\271022_MC_NBH_M00817968_1L_VEH_WK19.avi', 'C:\\\\Users\\\\Edwar\\\\Documents\\\\deeplabcut\\\\Motor videos for training\\\\DLC Motor Training Set\\\\281022_MC_NBH_M00817947_1L_VEH_WK19.avi']\n"
     ]
    }
   ],
   "source": [
    "#Videos_Dir      = r\"O:\\OneDrive - MRC Laboratory of Molecular Biology\\Resources\\Workshops\\DLC_20220916\\Data\\Videos\\Avis\"\n",
    "Videos_Dir      = r\"C:\\Users\\Edwar\\Documents\\deeplabcut\\Motor videos for training\\DLC Motor Training Set\\\\\"\n",
    "\n",
    "Videos_Paths    = GetFilePaths(Videos_Dir, '.avi')\n",
    "#Videos_Paths = [r\"D:\\MTCE1.3e\\20210621\\Concatenated\\Movies\\Cameras\\Eye\\Eye_Cropped.avi\"] # If only 1 movie\n",
    "\n",
    "print(Videos_Paths)"
   ]
  },
  {
   "cell_type": "markdown",
   "id": "2a26a9a3",
   "metadata": {},
   "source": [
    "### Create Project"
   ]
  },
  {
   "cell_type": "code",
   "execution_count": 13,
   "id": "eae887bc",
   "metadata": {},
   "outputs": [
    {
     "name": "stdout",
     "output_type": "stream",
     "text": [
      "Created \"C:\\Users\\Edwar\\Documents\\deeplabcut\\DLC_TRN_MOTOR_021022-ECH-2022-11-02\\videos\"\n",
      "Created \"C:\\Users\\Edwar\\Documents\\deeplabcut\\DLC_TRN_MOTOR_021022-ECH-2022-11-02\\labeled-data\"\n",
      "Created \"C:\\Users\\Edwar\\Documents\\deeplabcut\\DLC_TRN_MOTOR_021022-ECH-2022-11-02\\training-datasets\"\n",
      "Created \"C:\\Users\\Edwar\\Documents\\deeplabcut\\DLC_TRN_MOTOR_021022-ECH-2022-11-02\\dlc-models\"\n",
      "Copying the videos\n",
      "C:\\Users\\Edwar\\Documents\\deeplabcut\\DLC_TRN_MOTOR_021022-ECH-2022-11-02\\videos\\04102022_M00817915_1R_NBH_MET_LOCOMOTION_WK16.avi\n",
      "C:\\Users\\Edwar\\Documents\\deeplabcut\\DLC_TRN_MOTOR_021022-ECH-2022-11-02\\videos\\04102022_M00817934_NM_NBH_FLX_LOCOMOTION_WK16.avi\n",
      "C:\\Users\\Edwar\\Documents\\deeplabcut\\DLC_TRN_MOTOR_021022-ECH-2022-11-02\\videos\\060522_MC_NBH_M00708458_1L_CD_19wk.avi\n",
      "C:\\Users\\Edwar\\Documents\\deeplabcut\\DLC_TRN_MOTOR_021022-ECH-2022-11-02\\videos\\061022_MC_RML_M00817907_NM_CD_SEM100_16wk.avi\n",
      "C:\\Users\\Edwar\\Documents\\deeplabcut\\DLC_TRN_MOTOR_021022-ECH-2022-11-02\\videos\\061022_MC_RML_M00817965_1L_CD_SLN_16wk.avi\n",
      "C:\\Users\\Edwar\\Documents\\deeplabcut\\DLC_TRN_MOTOR_021022-ECH-2022-11-02\\videos\\071022_MC_NBH_M00817922_NM_CD_MET_16wk.avi\n",
      "C:\\Users\\Edwar\\Documents\\deeplabcut\\DLC_TRN_MOTOR_021022-ECH-2022-11-02\\videos\\071022_MC_NBH_M00817968_1L_CD_VEH_16wk.avi\n",
      "C:\\Users\\Edwar\\Documents\\deeplabcut\\DLC_TRN_MOTOR_021022-ECH-2022-11-02\\videos\\071022_MC_RML_M00817920_1L_CD_MET_16wk.avi\n",
      "C:\\Users\\Edwar\\Documents\\deeplabcut\\DLC_TRN_MOTOR_021022-ECH-2022-11-02\\videos\\071022_MC_RML_M00817976_NM_CD_VEH_16wk.avi\n",
      "C:\\Users\\Edwar\\Documents\\deeplabcut\\DLC_TRN_MOTOR_021022-ECH-2022-11-02\\videos\\080522_MC_NBH_M00708460_NM_CD_19wk.avi\n",
      "C:\\Users\\Edwar\\Documents\\deeplabcut\\DLC_TRN_MOTOR_021022-ECH-2022-11-02\\videos\\080522_MC_NBH_M00708471_1R_CD_MET_19wk.avi\n",
      "C:\\Users\\Edwar\\Documents\\deeplabcut\\DLC_TRN_MOTOR_021022-ECH-2022-11-02\\videos\\090622_MC_RML_M00726222_1L_CD_MET_19wk.avi\n",
      "C:\\Users\\Edwar\\Documents\\deeplabcut\\DLC_TRN_MOTOR_021022-ECH-2022-11-02\\videos\\090622_MC_RML_M00726224_NM_CD_MET_19wk.avi\n",
      "C:\\Users\\Edwar\\Documents\\deeplabcut\\DLC_TRN_MOTOR_021022-ECH-2022-11-02\\videos\\090622_MC_RML_M00726277_1R_CD_FLX_19wk.avi\n",
      "C:\\Users\\Edwar\\Documents\\deeplabcut\\DLC_TRN_MOTOR_021022-ECH-2022-11-02\\videos\\120622_MC_RML_M00726242_NM_CD_SLN_19wk.avi\n",
      "C:\\Users\\Edwar\\Documents\\deeplabcut\\DLC_TRN_MOTOR_021022-ECH-2022-11-02\\videos\\120622_MC_RML_M00726253_1R_CD_FLX_19wk.avi\n",
      "C:\\Users\\Edwar\\Documents\\deeplabcut\\DLC_TRN_MOTOR_021022-ECH-2022-11-02\\videos\\16092022_M0017919_NM_RML_MET_MOTOR_WK13.avi\n",
      "C:\\Users\\Edwar\\Documents\\deeplabcut\\DLC_TRN_MOTOR_021022-ECH-2022-11-02\\videos\\16092022_M0017934_NM_NBH_FLX_MOTOR_WK13.avi\n",
      "C:\\Users\\Edwar\\Documents\\deeplabcut\\DLC_TRN_MOTOR_021022-ECH-2022-11-02\\videos\\16092022_M0017936_1R_NBH_FLX_MOTOR_WK13.avi\n",
      "C:\\Users\\Edwar\\Documents\\deeplabcut\\DLC_TRN_MOTOR_021022-ECH-2022-11-02\\videos\\16092022_M0017939_1R_RML_VEH_MOTOR_WK13.avi\n",
      "C:\\Users\\Edwar\\Documents\\deeplabcut\\DLC_TRN_MOTOR_021022-ECH-2022-11-02\\videos\\16092022_M0017962_1L_NBH_VEH_MOTOR_WK13.avi\n",
      "C:\\Users\\Edwar\\Documents\\deeplabcut\\DLC_TRN_MOTOR_021022-ECH-2022-11-02\\videos\\16092022_M0017965_1L_RML_SAL_MOTOR_WK13.avi\n",
      "C:\\Users\\Edwar\\Documents\\deeplabcut\\DLC_TRN_MOTOR_021022-ECH-2022-11-02\\videos\\16092022_M0017968_1L_NBH_VEH_MOTOR_WK13.avi\n",
      "C:\\Users\\Edwar\\Documents\\deeplabcut\\DLC_TRN_MOTOR_021022-ECH-2022-11-02\\videos\\200622_MC_RML_M00726228_1L_CD_VEH_20w.avi\n",
      "C:\\Users\\Edwar\\Documents\\deeplabcut\\DLC_TRN_MOTOR_021022-ECH-2022-11-02\\videos\\210622_MC_NBH_M00726218_NM_CD_SLN_20wk.avi\n",
      "C:\\Users\\Edwar\\Documents\\deeplabcut\\DLC_TRN_MOTOR_021022-ECH-2022-11-02\\videos\\210622_MC_NBH_M00726260_NM_CD_SEM_20wk.avi\n",
      "C:\\Users\\Edwar\\Documents\\deeplabcut\\DLC_TRN_MOTOR_021022-ECH-2022-11-02\\videos\\210622_MC_RML_M00726252_1L_CD_FLX_20w.avi\n",
      "C:\\Users\\Edwar\\Documents\\deeplabcut\\DLC_TRN_MOTOR_021022-ECH-2022-11-02\\videos\\220522_MC_NBH_M00726237_1L_CD_SEM_16wk.avi\n",
      "C:\\Users\\Edwar\\Documents\\deeplabcut\\DLC_TRN_MOTOR_021022-ECH-2022-11-02\\videos\\220522_MC_NBH_M00726262_1R_CD_SEM_16wk.avi\n",
      "C:\\Users\\Edwar\\Documents\\deeplabcut\\DLC_TRN_MOTOR_021022-ECH-2022-11-02\\videos\\220522_MC_RML_M00726245_NM_CD_FLX_16wk.avi\n",
      "C:\\Users\\Edwar\\Documents\\deeplabcut\\DLC_TRN_MOTOR_021022-ECH-2022-11-02\\videos\\230522_MC_RML_M00726223_1R_CD_MET_16wk.avi\n",
      "C:\\Users\\Edwar\\Documents\\deeplabcut\\DLC_TRN_MOTOR_021022-ECH-2022-11-02\\videos\\271022_MC_NBH_M00817959_1L_FLX_WK19.avi\n",
      "C:\\Users\\Edwar\\Documents\\deeplabcut\\DLC_TRN_MOTOR_021022-ECH-2022-11-02\\videos\\271022_MC_NBH_M00817960_1R_FLX_WK19.avi\n",
      "C:\\Users\\Edwar\\Documents\\deeplabcut\\DLC_TRN_MOTOR_021022-ECH-2022-11-02\\videos\\271022_MC_NBH_M00817968_1L_VEH_WK19.avi\n",
      "C:\\Users\\Edwar\\Documents\\deeplabcut\\DLC_TRN_MOTOR_021022-ECH-2022-11-02\\videos\\281022_MC_NBH_M00817947_1L_VEH_WK19.avi\n",
      "Generated \"C:\\Users\\Edwar\\Documents\\deeplabcut\\DLC_TRN_MOTOR_021022-ECH-2022-11-02\\config.yaml\"\n",
      "\n",
      "A new project with name DLC_TRN_MOTOR_021022-ECH-2022-11-02 is created at C:\\Users\\Edwar\\Documents\\deeplabcut and a configurable file (config.yaml) is stored there. Change the parameters in this file to adapt to your project's needs.\n",
      " Once you have changed the configuration file, use the function 'extract_frames' to select frames for labeling.\n",
      ". [OPTIONAL] Use the function 'add_new_videos' to add new videos to your project (at any stage).\n"
     ]
    }
   ],
   "source": [
    "Project_Name = 'DLC_TRN_MOTOR_021022'\n",
    "Experimenter = \"ECH\"\n",
    "\n",
    "#Project_Dir = r\"O:\\OneDrive - MRC Laboratory of Molecular Biology\\Resources\\Workshops\\DLC_20220916\\Data\"\n",
    "Project_Dir = r\"C:\\Users\\Edwar\\Documents\\deeplabcut\"\n",
    "\n",
    "Config_Path = deeplabcut.create_new_project(Project_Name, Experimenter, \n",
    "                                            Videos_Paths, videotype = '.avi', copy_videos = True,\n",
    "                                            working_directory = Project_Dir)"
   ]
  },
  {
   "cell_type": "markdown",
   "id": "33db46bd",
   "metadata": {},
   "source": [
    "### Add manually body parts in the config.yaml file (Change also move2corner to false)"
   ]
  },
  {
   "cell_type": "code",
   "execution_count": null,
   "id": "27550048",
   "metadata": {},
   "outputs": [],
   "source": [
    "# Open config file with notepad"
   ]
  },
  {
   "cell_type": "code",
   "execution_count": null,
   "id": "eaeea607",
   "metadata": {},
   "outputs": [],
   "source": [
    "# enter body parts to label"
   ]
  },
  {
   "cell_type": "code",
   "execution_count": null,
   "id": "e82a75ba",
   "metadata": {},
   "outputs": [],
   "source": [
    "# Adjust numFrames 2 pick"
   ]
  },
  {
   "cell_type": "code",
   "execution_count": null,
   "id": "df2b9be5",
   "metadata": {},
   "outputs": [],
   "source": [
    "# Change move to corner to false"
   ]
  },
  {
   "cell_type": "markdown",
   "id": "a4098862",
   "metadata": {},
   "source": [
    "### Extract/Select which frames to manually annotate"
   ]
  },
  {
   "cell_type": "code",
   "execution_count": null,
   "id": "4feae671",
   "metadata": {},
   "outputs": [],
   "source": [
    "#Config_Path = r\"C:\\Users\\Edwar\\Documents\\deeplabcut\\DLC_TRN_MOTOR_021022-ECH-2022-11-02\\config.yaml\"\n",
    "cluster_step = 10 # consider only every 10th frame for the kmeans\n",
    "deeplabcut.extract_frames(Config_Path, algo='kmeans', userfeedback=False, cluster_step=cluster_step , cluster_resizewidth=30, slider_width=25)\n"
   ]
  },
  {
   "cell_type": "markdown",
   "id": "1b1cfa45",
   "metadata": {},
   "source": [
    "### Label frames"
   ]
  },
  {
   "cell_type": "code",
   "execution_count": 12,
   "id": "774608e6",
   "metadata": {},
   "outputs": [
    {
     "name": "stdout",
     "output_type": "stream",
     "text": [
      "You can now check the labels, using 'check_labels' before proceeding. Then, you can use the function 'create_training_dataset' to create the training dataset.\n"
     ]
    }
   ],
   "source": [
    "#Config_Path = r\"C:\\Users\\Edwar\\Documents\\deeplabcut\\DLC_TRN_MOTOR_021022-ECH-2022-11-02\\config.yaml\" #(to continue labelling only)\n",
    "deeplabcut.label_frames(Config_Path)"
   ]
  },
  {
   "cell_type": "markdown",
   "id": "0e6a50f4",
   "metadata": {},
   "source": [
    "# Transfer to HPC"
   ]
  },
  {
   "cell_type": "markdown",
   "id": "d8594860",
   "metadata": {},
   "source": [
    "### install DLC"
   ]
  },
  {
   "cell_type": "code",
   "execution_count": null,
   "id": "d3e2b1ee",
   "metadata": {},
   "outputs": [],
   "source": [
    "# dowload deeplab cut yaml file\n",
    "# remove the [gui] part from inside the file\n",
    "# Install with: conda env create -f DEEPLABCUT.yaml"
   ]
  },
  {
   "cell_type": "markdown",
   "id": "26a31023",
   "metadata": {},
   "source": [
    "### Set up build ( cuda 10.1, tensorflow 2.3 cudnn=7.6 and python=3.8 )"
   ]
  },
  {
   "cell_type": "code",
   "execution_count": null,
   "id": "38bcdd02",
   "metadata": {},
   "outputs": [],
   "source": [
    "# Activate environment\n",
    "# Install cudnn:\n",
    "# conda install cudnn==7.6 "
   ]
  },
  {
   "cell_type": "code",
   "execution_count": null,
   "id": "2863953f",
   "metadata": {},
   "outputs": [],
   "source": [
    "# Install tensorflow\n",
    "# pip install tensorflow==2.3"
   ]
  },
  {
   "cell_type": "markdown",
   "id": "14c1086a",
   "metadata": {},
   "source": [
    "# Return to PC"
   ]
  },
  {
   "cell_type": "markdown",
   "id": "e2f44148",
   "metadata": {},
   "source": [
    "### Extract outlier frames"
   ]
  },
  {
   "cell_type": "code",
   "execution_count": null,
   "id": "fe047664",
   "metadata": {},
   "outputs": [
    {
     "name": "stderr",
     "output_type": "stream",
     "text": [
      "C:\\Users\\Edwar\\.conda\\envs\\DEEPLABCUT\\lib\\site-packages\\deeplabcut\\refine_training_dataset\\outlier_frames.py:401: FutureWarning: Using the level keyword in DataFrame and Series aggregations is deprecated and will be removed in a future version. Use groupby instead. df.sum(level=1) should use df.groupby(level=1).sum().\n",
      "  sum_ = temp_dt.sum(axis=1, level=1)\n"
     ]
    },
    {
     "name": "stdout",
     "output_type": "stream",
     "text": [
      "Analyzing all the videos in the directory...\n",
      "Method  jump  found  3371  putative outlier frames.\n",
      "Do you want to proceed with extracting  2  of those?\n",
      "If this list is very large, perhaps consider changing the parameters (start, stop, p_bound, comparisonbodyparts) or use a different method.\n",
      "yes/noyes\n",
      "Loading video...\n",
      "Duration of video [s]:  130.1 , recorded @  30.0 fps!\n",
      "Overall # of frames:  3903 with (cropped) frame dimensions: \n",
      "Kmeans-quantization based extracting of frames from 0.0  seconds to 130.1  seconds.\n",
      "Extracting and downsampling... 3371  frames from the video.\n"
     ]
    },
    {
     "name": "stderr",
     "output_type": "stream",
     "text": [
      "3371it [01:37, 34.64it/s]\n"
     ]
    },
    {
     "name": "stdout",
     "output_type": "stream",
     "text": [
      "Kmeans clustering ... (this might take a while)\n",
      "Let's select frames indices: [2804, 363]\n"
     ]
    },
    {
     "name": "stderr",
     "output_type": "stream",
     "text": [
      "C:\\Users\\Edwar\\.conda\\envs\\DEEPLABCUT\\lib\\site-packages\\deeplabcut\\refine_training_dataset\\outlier_frames.py:401: FutureWarning: Using the level keyword in DataFrame and Series aggregations is deprecated and will be removed in a future version. Use groupby instead. df.sum(level=1) should use df.groupby(level=1).sum().\n",
      "  sum_ = temp_dt.sum(axis=1, level=1)\n"
     ]
    },
    {
     "name": "stdout",
     "output_type": "stream",
     "text": [
      "Attempting to create a symbolic link of the video ...\n",
      "Symlink creation impossible (exFat architecture?): cutting/pasting the video instead.\n",
      "C:\\Users\\Edwar\\Documents\\deeplabcut\\DLC_TRN_191022_v2-ECH-2022-10-22\\videos\\010522_GA_RML_M00708480_1R_CD_SLN_18wk.avi moved to C:\\Users\\Edwar\\Documents\\deeplabcut\\DLC_TRN_191022_v2-ECH-2022-10-22\\videos\\010522_GA_RML_M00708480_1R_CD_SLN_18wk.avi\n",
      "New videos were added to the project! Use the function 'extract_frames' to select frames for labeling.\n",
      "The outlier frames are extracted. They are stored in the subdirectory labeled-data\\010522_GA_RML_M00708480_1R_CD_SLN_18wk.\n",
      "Once you extracted frames for all videos, use 'refine_labels' to manually correct the labels.\n",
      "Method  jump  found  1826  putative outlier frames.\n",
      "Do you want to proceed with extracting  2  of those?\n",
      "If this list is very large, perhaps consider changing the parameters (start, stop, p_bound, comparisonbodyparts) or use a different method.\n",
      "yes/noyes\n",
      "Loading video...\n",
      "Duration of video [s]:  130.16666666666666 , recorded @  30.0 fps!\n",
      "Overall # of frames:  3905 with (cropped) frame dimensions: \n",
      "Kmeans-quantization based extracting of frames from 0.0  seconds to 130.17  seconds.\n",
      "Extracting and downsampling... 1826  frames from the video.\n"
     ]
    },
    {
     "name": "stderr",
     "output_type": "stream",
     "text": [
      "1826it [02:45, 11.02it/s]\n"
     ]
    },
    {
     "name": "stdout",
     "output_type": "stream",
     "text": [
      "Kmeans clustering ... (this might take a while)\n",
      "Let's select frames indices: [97, 73]\n"
     ]
    },
    {
     "name": "stderr",
     "output_type": "stream",
     "text": [
      "C:\\Users\\Edwar\\.conda\\envs\\DEEPLABCUT\\lib\\site-packages\\deeplabcut\\refine_training_dataset\\outlier_frames.py:401: FutureWarning: Using the level keyword in DataFrame and Series aggregations is deprecated and will be removed in a future version. Use groupby instead. df.sum(level=1) should use df.groupby(level=1).sum().\n",
      "  sum_ = temp_dt.sum(axis=1, level=1)\n"
     ]
    },
    {
     "name": "stdout",
     "output_type": "stream",
     "text": [
      "Attempting to create a symbolic link of the video ...\n",
      "Symlink creation impossible (exFat architecture?): cutting/pasting the video instead.\n",
      "C:\\Users\\Edwar\\Documents\\deeplabcut\\DLC_TRN_191022_v2-ECH-2022-10-22\\videos\\08062022_M00726243_1L_RML_SAL_WK19_GAIT.avi moved to C:\\Users\\Edwar\\Documents\\deeplabcut\\DLC_TRN_191022_v2-ECH-2022-10-22\\videos\\08062022_M00726243_1L_RML_SAL_WK19_GAIT.avi\n",
      "New videos were added to the project! Use the function 'extract_frames' to select frames for labeling.\n",
      "The outlier frames are extracted. They are stored in the subdirectory labeled-data\\08062022_M00726243_1L_RML_SAL_WK19_GAIT.\n",
      "Once you extracted frames for all videos, use 'refine_labels' to manually correct the labels.\n",
      "Method  jump  found  3072  putative outlier frames.\n",
      "Do you want to proceed with extracting  2  of those?\n",
      "If this list is very large, perhaps consider changing the parameters (start, stop, p_bound, comparisonbodyparts) or use a different method.\n",
      "yes/noyes\n",
      "Loading video...\n",
      "Duration of video [s]:  130.1 , recorded @  30.0 fps!\n",
      "Overall # of frames:  3903 with (cropped) frame dimensions: \n",
      "Kmeans-quantization based extracting of frames from 0.0  seconds to 130.1  seconds.\n",
      "Extracting and downsampling... 3072  frames from the video.\n"
     ]
    },
    {
     "name": "stderr",
     "output_type": "stream",
     "text": [
      "3072it [01:51, 27.62it/s]\n"
     ]
    },
    {
     "name": "stdout",
     "output_type": "stream",
     "text": [
      "Kmeans clustering ... (this might take a while)\n",
      "Let's select frames indices: [3695, 3806]\n"
     ]
    },
    {
     "name": "stderr",
     "output_type": "stream",
     "text": [
      "C:\\Users\\Edwar\\.conda\\envs\\DEEPLABCUT\\lib\\site-packages\\deeplabcut\\refine_training_dataset\\outlier_frames.py:401: FutureWarning: Using the level keyword in DataFrame and Series aggregations is deprecated and will be removed in a future version. Use groupby instead. df.sum(level=1) should use df.groupby(level=1).sum().\n",
      "  sum_ = temp_dt.sum(axis=1, level=1)\n"
     ]
    },
    {
     "name": "stdout",
     "output_type": "stream",
     "text": [
      "Attempting to create a symbolic link of the video ...\n",
      "Symlink creation impossible (exFat architecture?): cutting/pasting the video instead.\n",
      "C:\\Users\\Edwar\\Documents\\deeplabcut\\DLC_TRN_191022_v2-ECH-2022-10-22\\videos\\010522_GA_RML_M00708473_1L_CD_SLN_18wk.avi moved to C:\\Users\\Edwar\\Documents\\deeplabcut\\DLC_TRN_191022_v2-ECH-2022-10-22\\videos\\010522_GA_RML_M00708473_1L_CD_SLN_18wk.avi\n",
      "New videos were added to the project! Use the function 'extract_frames' to select frames for labeling.\n",
      "The outlier frames are extracted. They are stored in the subdirectory labeled-data\\010522_GA_RML_M00708473_1L_CD_SLN_18wk.\n",
      "Once you extracted frames for all videos, use 'refine_labels' to manually correct the labels.\n",
      "Method  jump  found  3083  putative outlier frames.\n",
      "Do you want to proceed with extracting  2  of those?\n",
      "If this list is very large, perhaps consider changing the parameters (start, stop, p_bound, comparisonbodyparts) or use a different method.\n",
      "yes/noyes\n",
      "Frames from video 010522_GA_RML_M00708490_NM_CD_SLN_18wk  already extracted (more will be added)!\n",
      "Loading video...\n",
      "Duration of video [s]:  130.06666666666666 , recorded @  30.0 fps!\n",
      "Overall # of frames:  3902 with (cropped) frame dimensions: \n",
      "Kmeans-quantization based extracting of frames from 0.0  seconds to 130.07  seconds.\n",
      "Extracting and downsampling... 3083  frames from the video.\n"
     ]
    },
    {
     "name": "stderr",
     "output_type": "stream",
     "text": [
      "59it [00:01, 61.12it/s]"
     ]
    }
   ],
   "source": [
    "Videos_Dir = r\"C:\\Users\\Edwar\\Documents\\deeplabcut\\DLC_TRN_191022_v2-ECH-2022-10-22\\videos\"\n",
    "Config_Path = r\"C:\\Users\\Edwar\\Documents\\deeplabcut\\DLC_TRN_191022_v2-ECH-2022-10-22\\config.yaml\"\n",
    "deeplabcut.extract_outlier_frames(Config_Path, Videos_Dir)\n",
    "\n",
    "#deeplabcut.extract_outlier_frames(Config_Path , Videos_Dir , outlieralgorithm='manual')\n",
    "\n",
    "\n",
    "\n"
   ]
  },
  {
   "cell_type": "markdown",
   "id": "1f5addf7",
   "metadata": {},
   "source": [
    "### Refine labels (correct outliers)"
   ]
  },
  {
   "cell_type": "code",
   "execution_count": 3,
   "id": "a3f6cac4",
   "metadata": {},
   "outputs": [
    {
     "name": "stdout",
     "output_type": "stream",
     "text": [
      "Checking labels if they are outside the image\n",
      "Found Bodycentre outside the image ('labeled-data', '010522_GA_RML_M00708490_NM_CD_SLN_18wk', 'img2288.png').Setting it to NaN\n",
      "Found BackRight_Paw outside the image ('labeled-data', '010522_GA_RML_M00708490_NM_CD_SLN_18wk', 'img2288.png').Setting it to NaN\n",
      "Found Tailbase outside the image ('labeled-data', '010522_GA_RML_M00708490_NM_CD_SLN_18wk', 'img2667.png').Setting it to NaN\n"
     ]
    },
    {
     "name": "stderr",
     "output_type": "stream",
     "text": [
      "C:\\Users\\Edwar\\.conda\\envs\\DEEPLABCUT\\lib\\site-packages\\deeplabcut\\gui\\refinement.py:735: FutureWarning: inplace is deprecated and will be removed in a future version.\n",
      "  self.Dataframe.columns.set_levels(\n"
     ]
    }
   ],
   "source": [
    "deeplabcut.refine_labels(Config_Path)\n"
   ]
  },
  {
   "cell_type": "markdown",
   "id": "6e42b258",
   "metadata": {},
   "source": [
    "### Merge Amended Outliers"
   ]
  },
  {
   "cell_type": "code",
   "execution_count": null,
   "id": "013a6073",
   "metadata": {},
   "outputs": [],
   "source": [
    "deeplabcut.merge_datasets(Config_Path)"
   ]
  },
  {
   "cell_type": "markdown",
   "id": "54e98f4f",
   "metadata": {},
   "source": [
    "# Extra"
   ]
  }
 ],
 "metadata": {
  "kernelspec": {
   "display_name": "Python [conda env:.conda-DEEPLABCUT]",
   "language": "python",
   "name": "conda-env-.conda-DEEPLABCUT-py"
  },
  "language_info": {
   "codemirror_mode": {
    "name": "ipython",
    "version": 3
   },
   "file_extension": ".py",
   "mimetype": "text/x-python",
   "name": "python",
   "nbconvert_exporter": "python",
   "pygments_lexer": "ipython3",
   "version": "3.8.13"
  }
 },
 "nbformat": 4,
 "nbformat_minor": 5
}
