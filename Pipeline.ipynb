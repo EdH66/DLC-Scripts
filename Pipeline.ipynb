{
 "cells": [
  {
   "cell_type": "markdown",
   "id": "9a6d38e6",
   "metadata": {},
   "source": [
    "# Labelling"
   ]
  },
  {
   "cell_type": "code",
   "execution_count": null,
   "id": "89126aec",
   "metadata": {
    "scrolled": true
   },
   "outputs": [
    {
     "name": "stdout",
     "output_type": "stream",
     "text": [
      "Loading DLC 2.2.2...\n"
     ]
    }
   ],
   "source": [
    "import deeplabcut\n",
    "from PathGeneral_Func import GetFilePaths\n",
    "import os"
   ]
  },
  {
   "cell_type": "markdown",
   "id": "8d87be0b",
   "metadata": {},
   "source": [
    "### Gather videos to analyse"
   ]
  },
  {
   "cell_type": "code",
   "execution_count": null,
   "id": "3cc16753",
   "metadata": {},
   "outputs": [],
   "source": [
    "#Videos_Dir      = r\"O:\\OneDrive - MRC Laboratory of Molecular Biology\\Resources\\Workshops\\DLC_20220916\\Data\\Videos\\Avis\"\n",
    "Videos_Dir      = r\"C:\\Users\\Edwar\\Documents\\deeplabcut\\Motor videos for training\\DLC Motor Training Set\\\\\"\n",
    "\n",
    "Videos_Paths    = GetFilePaths(Videos_Dir, '.avi')\n",
    "#Videos_Paths = [r\"D:\\MTCE1.3e\\20210621\\Concatenated\\Movies\\Cameras\\Eye\\Eye_Cropped.avi\"] # If only 1 movie\n",
    "\n",
    "print(Videos_Paths)"
   ]
  },
  {
   "cell_type": "markdown",
   "id": "2a26a9a3",
   "metadata": {},
   "source": [
    "### Create Project"
   ]
  },
  {
   "cell_type": "code",
   "execution_count": 5,
   "id": "eae887bc",
   "metadata": {},
   "outputs": [
    {
     "name": "stdout",
     "output_type": "stream",
     "text": [
      "Created \"C:\\Users\\Edwar\\Documents\\deeplabcut\\DLC_Training_191022\\DLC_TRN_191022_v2-ECH-2022-10-22\\videos\"\n",
      "Created \"C:\\Users\\Edwar\\Documents\\deeplabcut\\DLC_Training_191022\\DLC_TRN_191022_v2-ECH-2022-10-22\\labeled-data\"\n",
      "Created \"C:\\Users\\Edwar\\Documents\\deeplabcut\\DLC_Training_191022\\DLC_TRN_191022_v2-ECH-2022-10-22\\training-datasets\"\n",
      "Created \"C:\\Users\\Edwar\\Documents\\deeplabcut\\DLC_Training_191022\\DLC_TRN_191022_v2-ECH-2022-10-22\\dlc-models\"\n",
      "Copying the videos\n",
      "C:\\Users\\Edwar\\Documents\\deeplabcut\\DLC_Training_191022\\DLC_TRN_191022_v2-ECH-2022-10-22\\videos\\010522_GA_NBH_M00708462_1R_CD_18wk.avi\n",
      "C:\\Users\\Edwar\\Documents\\deeplabcut\\DLC_Training_191022\\DLC_TRN_191022_v2-ECH-2022-10-22\\videos\\010522_GA_RML_M00708451_NM_CD_18wk.avi\n",
      "C:\\Users\\Edwar\\Documents\\deeplabcut\\DLC_Training_191022\\DLC_TRN_191022_v2-ECH-2022-10-22\\videos\\010522_GA_RML_M00708453_1R_CD_18wk.avi\n",
      "C:\\Users\\Edwar\\Documents\\deeplabcut\\DLC_Training_191022\\DLC_TRN_191022_v2-ECH-2022-10-22\\videos\\010522_GA_RML_M00708479_1L_CD_SLN_18wk.avi\n",
      "C:\\Users\\Edwar\\Documents\\deeplabcut\\DLC_Training_191022\\DLC_TRN_191022_v2-ECH-2022-10-22\\videos\\010522_GA_RML_M00708505_NM_CD_18wk.avi\n",
      "C:\\Users\\Edwar\\Documents\\deeplabcut\\DLC_Training_191022\\DLC_TRN_191022_v2-ECH-2022-10-22\\videos\\020522_GA_NBH_M00708456_1R_CD_18wk.avi\n",
      "C:\\Users\\Edwar\\Documents\\deeplabcut\\DLC_Training_191022\\DLC_TRN_191022_v2-ECH-2022-10-22\\videos\\020522_GA_RML_M00708488_1L_CD_MET_18wk.avi\n",
      "C:\\Users\\Edwar\\Documents\\deeplabcut\\DLC_Training_191022\\DLC_TRN_191022_v2-ECH-2022-10-22\\videos\\061022_Gait_RML_M00817920_1L_CD_MET_16wk.avi\n",
      "C:\\Users\\Edwar\\Documents\\deeplabcut\\DLC_Training_191022\\DLC_TRN_191022_v2-ECH-2022-10-22\\videos\\08062022_M00726231_1L_NBH_SAL_WK19_GAIT.avi\n",
      "C:\\Users\\Edwar\\Documents\\deeplabcut\\DLC_Training_191022\\DLC_TRN_191022_v2-ECH-2022-10-22\\videos\\08062022_M00726260_NM_NBH_SEM_WK19_GAIT.avi\n",
      "C:\\Users\\Edwar\\Documents\\deeplabcut\\DLC_Training_191022\\DLC_TRN_191022_v2-ECH-2022-10-22\\videos\\140422_RML_M00708449_1L_16_Week.avi\n",
      "C:\\Users\\Edwar\\Documents\\deeplabcut\\DLC_Training_191022\\DLC_TRN_191022_v2-ECH-2022-10-22\\videos\\140422_RML_M00708483_IR_16_Week.avi\n",
      "C:\\Users\\Edwar\\Documents\\deeplabcut\\DLC_Training_191022\\DLC_TRN_191022_v2-ECH-2022-10-22\\videos\\14092022_M00817908_1L_RML_SEM100_GAIT_WK13.avi\n",
      "C:\\Users\\Edwar\\Documents\\deeplabcut\\DLC_Training_191022\\DLC_TRN_191022_v2-ECH-2022-10-22\\videos\\14092022_M00817909_1R_RML_SEM100_GAIT_WK13.avi\n",
      "C:\\Users\\Edwar\\Documents\\deeplabcut\\DLC_Training_191022\\DLC_TRN_191022_v2-ECH-2022-10-22\\videos\\14092022_M00817911_1L_RML_VEH_GAIT_WK13.avi\n",
      "C:\\Users\\Edwar\\Documents\\deeplabcut\\DLC_Training_191022\\DLC_TRN_191022_v2-ECH-2022-10-22\\videos\\14092022_M00817918_1R_NBH_FLX_GAIT_WK13.avi\n",
      "C:\\Users\\Edwar\\Documents\\deeplabcut\\DLC_Training_191022\\DLC_TRN_191022_v2-ECH-2022-10-22\\videos\\14092022_M00817938_1L_RML_VEH_GAIT_WK13.avi\n",
      "C:\\Users\\Edwar\\Documents\\deeplabcut\\DLC_Training_191022\\DLC_TRN_191022_v2-ECH-2022-10-22\\videos\\14092022_M00817943_NM_RML_SEM100_GAIT_WK13.avi\n",
      "C:\\Users\\Edwar\\Documents\\deeplabcut\\DLC_Training_191022\\DLC_TRN_191022_v2-ECH-2022-10-22\\videos\\14092022_M00817948_1R_NBH_VEH_GAIT_WK13.avi\n",
      "C:\\Users\\Edwar\\Documents\\deeplabcut\\DLC_Training_191022\\DLC_TRN_191022_v2-ECH-2022-10-22\\videos\\14092022_M00817953_1L_RML_MET_GAIT_WK13.avi\n",
      "C:\\Users\\Edwar\\Documents\\deeplabcut\\DLC_Training_191022\\DLC_TRN_191022_v2-ECH-2022-10-22\\videos\\170322_GA_NBH_M00708460_NM_CD_13wk.avi\n",
      "C:\\Users\\Edwar\\Documents\\deeplabcut\\DLC_Training_191022\\DLC_TRN_191022_v2-ECH-2022-10-22\\videos\\170322_GA_RML_M00708505_NM_CD_13wk.avi\n",
      "C:\\Users\\Edwar\\Documents\\deeplabcut\\DLC_Training_191022\\DLC_TRN_191022_v2-ECH-2022-10-22\\videos\\170322_GA_RML_M00708507_1R_CD_13wk.avi\n",
      "C:\\Users\\Edwar\\Documents\\deeplabcut\\DLC_Training_191022\\DLC_TRN_191022_v2-ECH-2022-10-22\\videos\\18052022_M00726219_1L_NBH_SAL_WK13_GAIT.avi\n",
      "C:\\Users\\Edwar\\Documents\\deeplabcut\\DLC_Training_191022\\DLC_TRN_191022_v2-ECH-2022-10-22\\videos\\18052022_M00726239_NM_RML_SAL_wk16_GAIT.avi\n",
      "C:\\Users\\Edwar\\Documents\\deeplabcut\\DLC_Training_191022\\DLC_TRN_191022_v2-ECH-2022-10-22\\videos\\18052022_M00726242_NM_RML_SAL_wk16_GAIT.avi\n",
      "C:\\Users\\Edwar\\Documents\\deeplabcut\\DLC_Training_191022\\DLC_TRN_191022_v2-ECH-2022-10-22\\videos\\18052022_M00726261_1L_NBH_SEM_WK13_GAIT.avi\n",
      "C:\\Users\\Edwar\\Documents\\deeplabcut\\DLC_Training_191022\\DLC_TRN_191022_v2-ECH-2022-10-22\\videos\\18052022_M00726273_1L_RML_SAL_wk16_GAIT.avi\n",
      "C:\\Users\\Edwar\\Documents\\deeplabcut\\DLC_Training_191022\\DLC_TRN_191022_v2-ECH-2022-10-22\\videos\\200322_GA_NBH_M00708456_1R_CD_13wk.avi\n",
      "C:\\Users\\Edwar\\Documents\\deeplabcut\\DLC_Training_191022\\DLC_TRN_191022_v2-ECH-2022-10-22\\videos\\200322_GA_RML_M00708452_1L_CD_13wk.avi\n",
      "C:\\Users\\Edwar\\Documents\\deeplabcut\\DLC_Training_191022\\DLC_TRN_191022_v2-ECH-2022-10-22\\videos\\200322_GA_RML_M00708453_1R_CD_13wk.avi\n",
      "C:\\Users\\Edwar\\Documents\\deeplabcut\\DLC_Training_191022\\DLC_TRN_191022_v2-ECH-2022-10-22\\videos\\220322_GA_NBH_M00708459_1R_CD_13wk_.avi\n",
      "C:\\Users\\Edwar\\Documents\\deeplabcut\\DLC_Training_191022\\DLC_TRN_191022_v2-ECH-2022-10-22\\videos\\220322_GA_RML_M00708450_1R_CD_13wk.avi\n",
      "C:\\Users\\Edwar\\Documents\\deeplabcut\\DLC_Training_191022\\DLC_TRN_191022_v2-ECH-2022-10-22\\videos\\220322_GA_RML_M00708488_1L_CD_MET_13wk.avi\n",
      "C:\\Users\\Edwar\\Documents\\deeplabcut\\DLC_Training_191022\\DLC_TRN_191022_v2-ECH-2022-10-22\\videos\\220322_GA_RML_M00708494_1L_CD_MET_13wk.avi\n",
      "C:\\Users\\Edwar\\Documents\\deeplabcut\\DLC_Training_191022\\DLC_TRN_191022_v2-ECH-2022-10-22\\videos\\280422_GA_NBH_M00708459_1R_CD_18wk.avi\n",
      "C:\\Users\\Edwar\\Documents\\deeplabcut\\DLC_Training_191022\\DLC_TRN_191022_v2-ECH-2022-10-22\\videos\\290422_GA_RML_M00708449_1L_CD_18wk.avi\n",
      "Generated \"C:\\Users\\Edwar\\Documents\\deeplabcut\\DLC_Training_191022\\DLC_TRN_191022_v2-ECH-2022-10-22\\config.yaml\"\n",
      "\n",
      "A new project with name DLC_TRN_191022_v2-ECH-2022-10-22 is created at C:\\Users\\Edwar\\Documents\\deeplabcut\\DLC_Training_191022 and a configurable file (config.yaml) is stored there. Change the parameters in this file to adapt to your project's needs.\n",
      " Once you have changed the configuration file, use the function 'extract_frames' to select frames for labeling.\n",
      ". [OPTIONAL] Use the function 'add_new_videos' to add new videos to your project (at any stage).\n"
     ]
    }
   ],
   "source": [
    "Project_Name = 'DLC_TRN_191022_v2'\n",
    "Experimenter = \"ECH\"\n",
    "\n",
    "#Project_Dir = r\"O:\\OneDrive - MRC Laboratory of Molecular Biology\\Resources\\Workshops\\DLC_20220916\\Data\"\n",
    "Project_Dir = r\"C:\\Users\\Edwar\\Documents\\deeplabcut\\DLC_Training_191022\"\n",
    "\n",
    "Config_Path = deeplabcut.create_new_project(Project_Name, Experimenter, \n",
    "                                            Videos_Paths, videotype = '.avi', copy_videos = True,\n",
    "                                            working_directory = Project_Dir)"
   ]
  },
  {
   "cell_type": "markdown",
   "id": "33db46bd",
   "metadata": {},
   "source": [
    "### Add manually body parts in the config.yaml file (Change also move2corner to false)"
   ]
  },
  {
   "cell_type": "code",
   "execution_count": null,
   "id": "27550048",
   "metadata": {},
   "outputs": [],
   "source": [
    "# Open config file with notepad"
   ]
  },
  {
   "cell_type": "code",
   "execution_count": null,
   "id": "eaeea607",
   "metadata": {},
   "outputs": [],
   "source": [
    "# enter body parts to label"
   ]
  },
  {
   "cell_type": "code",
   "execution_count": null,
   "id": "e82a75ba",
   "metadata": {},
   "outputs": [],
   "source": [
    "# Adjust numFrames 2 pick"
   ]
  },
  {
   "cell_type": "code",
   "execution_count": null,
   "id": "df2b9be5",
   "metadata": {},
   "outputs": [],
   "source": [
    "# Change move to corner to false"
   ]
  },
  {
   "cell_type": "markdown",
   "id": "a4098862",
   "metadata": {},
   "source": [
    "### Extract/Select which frames to manually annotate"
   ]
  },
  {
   "cell_type": "code",
   "execution_count": 6,
   "id": "9008908d",
   "metadata": {},
   "outputs": [
    {
     "name": "stdout",
     "output_type": "stream",
     "text": [
      "Config file read successfully.\n",
      "Extracting frames based on kmeans ...\n",
      "Kmeans-quantization based extracting of frames from 0.0  seconds to 130.07  seconds.\n",
      "Extracting and downsampling... 391  frames from the video.\n"
     ]
    },
    {
     "name": "stderr",
     "output_type": "stream",
     "text": [
      "391it [00:11, 35.38it/s]\n"
     ]
    },
    {
     "name": "stdout",
     "output_type": "stream",
     "text": [
      "Kmeans clustering ... (this might take a while)\n",
      "Frame 3900  not found!\n",
      "Extracting frames based on kmeans ...\n",
      "Kmeans-quantization based extracting of frames from 0.0  seconds to 130.27  seconds.\n",
      "Extracting and downsampling... 391  frames from the video.\n"
     ]
    },
    {
     "name": "stderr",
     "output_type": "stream",
     "text": [
      "391it [00:12, 30.89it/s]\n"
     ]
    },
    {
     "name": "stdout",
     "output_type": "stream",
     "text": [
      "Kmeans clustering ... (this might take a while)\n",
      "Extracting frames based on kmeans ...\n",
      "Kmeans-quantization based extracting of frames from 0.0  seconds to 130.1  seconds.\n",
      "Extracting and downsampling... 391  frames from the video.\n"
     ]
    },
    {
     "name": "stderr",
     "output_type": "stream",
     "text": [
      "391it [00:13, 29.80it/s]\n"
     ]
    },
    {
     "name": "stdout",
     "output_type": "stream",
     "text": [
      "Kmeans clustering ... (this might take a while)\n",
      "Extracting frames based on kmeans ...\n",
      "Kmeans-quantization based extracting of frames from 0.0  seconds to 130.07  seconds.\n",
      "Extracting and downsampling... 391  frames from the video.\n"
     ]
    },
    {
     "name": "stderr",
     "output_type": "stream",
     "text": [
      "391it [00:11, 33.78it/s]\n"
     ]
    },
    {
     "name": "stdout",
     "output_type": "stream",
     "text": [
      "Kmeans clustering ... (this might take a while)\n",
      "Extracting frames based on kmeans ...\n",
      "Kmeans-quantization based extracting of frames from 0.0  seconds to 130.07  seconds.\n",
      "Extracting and downsampling... 391  frames from the video.\n"
     ]
    },
    {
     "name": "stderr",
     "output_type": "stream",
     "text": [
      "391it [00:12, 32.17it/s]\n"
     ]
    },
    {
     "name": "stdout",
     "output_type": "stream",
     "text": [
      "Kmeans clustering ... (this might take a while)\n",
      "Extracting frames based on kmeans ...\n",
      "Kmeans-quantization based extracting of frames from 0.0  seconds to 130.1  seconds.\n",
      "Extracting and downsampling... 391  frames from the video.\n"
     ]
    },
    {
     "name": "stderr",
     "output_type": "stream",
     "text": [
      "391it [00:11, 34.31it/s]\n"
     ]
    },
    {
     "name": "stdout",
     "output_type": "stream",
     "text": [
      "Kmeans clustering ... (this might take a while)\n",
      "Frame 3900  not found!\n",
      "Extracting frames based on kmeans ...\n",
      "Kmeans-quantization based extracting of frames from 0.0  seconds to 130.07  seconds.\n",
      "Extracting and downsampling... 391  frames from the video.\n"
     ]
    },
    {
     "name": "stderr",
     "output_type": "stream",
     "text": [
      "391it [00:12, 30.39it/s]\n"
     ]
    },
    {
     "name": "stdout",
     "output_type": "stream",
     "text": [
      "Kmeans clustering ... (this might take a while)\n",
      "Extracting frames based on kmeans ...\n",
      "Kmeans-quantization based extracting of frames from 0.0  seconds to 130.07  seconds.\n",
      "Extracting and downsampling... 391  frames from the video.\n"
     ]
    },
    {
     "name": "stderr",
     "output_type": "stream",
     "text": [
      "391it [00:14, 26.63it/s]\n"
     ]
    },
    {
     "name": "stdout",
     "output_type": "stream",
     "text": [
      "Kmeans clustering ... (this might take a while)\n",
      "Extracting frames based on kmeans ...\n",
      "Kmeans-quantization based extracting of frames from 0.0  seconds to 130.17  seconds.\n",
      "Extracting and downsampling... 391  frames from the video.\n"
     ]
    },
    {
     "name": "stderr",
     "output_type": "stream",
     "text": [
      "391it [00:37, 10.35it/s]\n"
     ]
    },
    {
     "name": "stdout",
     "output_type": "stream",
     "text": [
      "Kmeans clustering ... (this might take a while)\n",
      "Frame 3470  not found!\n",
      "Extracting frames based on kmeans ...\n",
      "Kmeans-quantization based extracting of frames from 0.0  seconds to 130.17  seconds.\n",
      "Extracting and downsampling... 391  frames from the video.\n"
     ]
    },
    {
     "name": "stderr",
     "output_type": "stream",
     "text": [
      "391it [00:36, 10.67it/s]\n"
     ]
    },
    {
     "name": "stdout",
     "output_type": "stream",
     "text": [
      "Kmeans clustering ... (this might take a while)\n",
      "Frame 3520  not found!\n",
      "Extracting frames based on kmeans ...\n",
      "Kmeans-quantization based extracting of frames from 0.0  seconds to 130.07  seconds.\n",
      "Extracting and downsampling... 391  frames from the video.\n"
     ]
    },
    {
     "name": "stderr",
     "output_type": "stream",
     "text": [
      "391it [00:15, 24.48it/s]\n"
     ]
    },
    {
     "name": "stdout",
     "output_type": "stream",
     "text": [
      "Kmeans clustering ... (this might take a while)\n",
      "Extracting frames based on kmeans ...\n",
      "Kmeans-quantization based extracting of frames from 0.0  seconds to 130.1  seconds.\n",
      "Extracting and downsampling... 391  frames from the video.\n"
     ]
    },
    {
     "name": "stderr",
     "output_type": "stream",
     "text": [
      "391it [00:16, 24.19it/s]\n"
     ]
    },
    {
     "name": "stdout",
     "output_type": "stream",
     "text": [
      "Kmeans clustering ... (this might take a while)\n",
      "Frame 3900  not found!\n",
      "Extracting frames based on kmeans ...\n",
      "Kmeans-quantization based extracting of frames from 0.0  seconds to 130.07  seconds.\n",
      "Extracting and downsampling... 391  frames from the video.\n"
     ]
    },
    {
     "name": "stderr",
     "output_type": "stream",
     "text": [
      "391it [00:18, 21.41it/s]\n"
     ]
    },
    {
     "name": "stdout",
     "output_type": "stream",
     "text": [
      "Kmeans clustering ... (this might take a while)\n",
      "Extracting frames based on kmeans ...\n",
      "Kmeans-quantization based extracting of frames from 0.0  seconds to 130.07  seconds.\n",
      "Extracting and downsampling... 391  frames from the video.\n"
     ]
    },
    {
     "name": "stderr",
     "output_type": "stream",
     "text": [
      "391it [00:18, 21.32it/s]\n"
     ]
    },
    {
     "name": "stdout",
     "output_type": "stream",
     "text": [
      "Kmeans clustering ... (this might take a while)\n",
      "Extracting frames based on kmeans ...\n",
      "Kmeans-quantization based extracting of frames from 0.0  seconds to 130.1  seconds.\n",
      "Extracting and downsampling... 391  frames from the video.\n"
     ]
    },
    {
     "name": "stderr",
     "output_type": "stream",
     "text": [
      "391it [00:17, 21.95it/s]\n"
     ]
    },
    {
     "name": "stdout",
     "output_type": "stream",
     "text": [
      "Kmeans clustering ... (this might take a while)\n",
      "Extracting frames based on kmeans ...\n",
      "Kmeans-quantization based extracting of frames from 0.0  seconds to 130.07  seconds.\n",
      "Extracting and downsampling... 391  frames from the video.\n"
     ]
    },
    {
     "name": "stderr",
     "output_type": "stream",
     "text": [
      "391it [00:17, 22.05it/s]\n"
     ]
    },
    {
     "name": "stdout",
     "output_type": "stream",
     "text": [
      "Kmeans clustering ... (this might take a while)\n",
      "Extracting frames based on kmeans ...\n",
      "Kmeans-quantization based extracting of frames from 0.0  seconds to 130.1  seconds.\n",
      "Extracting and downsampling... 391  frames from the video.\n"
     ]
    },
    {
     "name": "stderr",
     "output_type": "stream",
     "text": [
      "391it [00:18, 21.14it/s]\n"
     ]
    },
    {
     "name": "stdout",
     "output_type": "stream",
     "text": [
      "Kmeans clustering ... (this might take a while)\n",
      "Extracting frames based on kmeans ...\n",
      "Kmeans-quantization based extracting of frames from 0.0  seconds to 130.07  seconds.\n",
      "Extracting and downsampling... 391  frames from the video.\n"
     ]
    },
    {
     "name": "stderr",
     "output_type": "stream",
     "text": [
      "391it [00:17, 22.07it/s]\n"
     ]
    },
    {
     "name": "stdout",
     "output_type": "stream",
     "text": [
      "Kmeans clustering ... (this might take a while)\n",
      "Extracting frames based on kmeans ...\n",
      "Kmeans-quantization based extracting of frames from 0.0  seconds to 130.1  seconds.\n",
      "Extracting and downsampling... 391  frames from the video.\n"
     ]
    },
    {
     "name": "stderr",
     "output_type": "stream",
     "text": [
      "391it [00:17, 21.77it/s]\n"
     ]
    },
    {
     "name": "stdout",
     "output_type": "stream",
     "text": [
      "Kmeans clustering ... (this might take a while)\n",
      "Extracting frames based on kmeans ...\n",
      "Kmeans-quantization based extracting of frames from 0.0  seconds to 130.1  seconds.\n",
      "Extracting and downsampling... 391  frames from the video.\n"
     ]
    },
    {
     "name": "stderr",
     "output_type": "stream",
     "text": [
      "391it [00:17, 21.78it/s]\n"
     ]
    },
    {
     "name": "stdout",
     "output_type": "stream",
     "text": [
      "Kmeans clustering ... (this might take a while)\n",
      "Extracting frames based on kmeans ...\n",
      "Kmeans-quantization based extracting of frames from 0.0  seconds to 131.37  seconds.\n",
      "Extracting and downsampling... 395  frames from the video.\n"
     ]
    },
    {
     "name": "stderr",
     "output_type": "stream",
     "text": [
      "395it [00:15, 24.81it/s]\n"
     ]
    },
    {
     "name": "stdout",
     "output_type": "stream",
     "text": [
      "Kmeans clustering ... (this might take a while)\n",
      "Extracting frames based on kmeans ...\n",
      "Kmeans-quantization based extracting of frames from 0.0  seconds to 130.1  seconds.\n",
      "Extracting and downsampling... 391  frames from the video.\n"
     ]
    },
    {
     "name": "stderr",
     "output_type": "stream",
     "text": [
      "391it [00:18, 20.94it/s]\n"
     ]
    },
    {
     "name": "stdout",
     "output_type": "stream",
     "text": [
      "Kmeans clustering ... (this might take a while)\n",
      "Extracting frames based on kmeans ...\n",
      "Kmeans-quantization based extracting of frames from 0.0  seconds to 130.07  seconds.\n",
      "Extracting and downsampling... 391  frames from the video.\n"
     ]
    },
    {
     "name": "stderr",
     "output_type": "stream",
     "text": [
      "391it [00:15, 24.70it/s]\n"
     ]
    },
    {
     "name": "stdout",
     "output_type": "stream",
     "text": [
      "Kmeans clustering ... (this might take a while)\n",
      "Extracting frames based on kmeans ...\n",
      "Kmeans-quantization based extracting of frames from 0.0  seconds to 130.1  seconds.\n",
      "Extracting and downsampling... 391  frames from the video.\n"
     ]
    },
    {
     "name": "stderr",
     "output_type": "stream",
     "text": [
      "391it [00:38, 10.13it/s]\n"
     ]
    },
    {
     "name": "stdout",
     "output_type": "stream",
     "text": [
      "Kmeans clustering ... (this might take a while)\n",
      "Frame 3820  not found!\n",
      "Extracting frames based on kmeans ...\n",
      "Kmeans-quantization based extracting of frames from 0.0  seconds to 130.1  seconds.\n",
      "Extracting and downsampling... 391  frames from the video.\n"
     ]
    },
    {
     "name": "stderr",
     "output_type": "stream",
     "text": [
      "391it [00:38, 10.17it/s]\n"
     ]
    },
    {
     "name": "stdout",
     "output_type": "stream",
     "text": [
      "Kmeans clustering ... (this might take a while)\n",
      "Frame 3500  not found!\n",
      "Extracting frames based on kmeans ...\n",
      "Kmeans-quantization based extracting of frames from 0.0  seconds to 130.1  seconds.\n",
      "Extracting and downsampling... 391  frames from the video.\n"
     ]
    },
    {
     "name": "stderr",
     "output_type": "stream",
     "text": [
      "391it [00:40,  9.73it/s]\n"
     ]
    },
    {
     "name": "stdout",
     "output_type": "stream",
     "text": [
      "Kmeans clustering ... (this might take a while)\n",
      "Frame 3710  not found!\n",
      "Extracting frames based on kmeans ...\n",
      "Kmeans-quantization based extracting of frames from 0.0  seconds to 130.1  seconds.\n",
      "Extracting and downsampling... 391  frames from the video.\n"
     ]
    },
    {
     "name": "stderr",
     "output_type": "stream",
     "text": [
      "391it [00:38, 10.15it/s]\n"
     ]
    },
    {
     "name": "stdout",
     "output_type": "stream",
     "text": [
      "Kmeans clustering ... (this might take a while)\n",
      "Frame 3450  not found!\n",
      "Extracting frames based on kmeans ...\n",
      "Kmeans-quantization based extracting of frames from 0.0  seconds to 130.17  seconds.\n",
      "Extracting and downsampling... 391  frames from the video.\n"
     ]
    },
    {
     "name": "stderr",
     "output_type": "stream",
     "text": [
      "391it [00:38, 10.17it/s]\n"
     ]
    },
    {
     "name": "stdout",
     "output_type": "stream",
     "text": [
      "Kmeans clustering ... (this might take a while)\n",
      "Frame 3520  not found!\n",
      "Extracting frames based on kmeans ...\n",
      "Kmeans-quantization based extracting of frames from 0.0  seconds to 130.07  seconds.\n",
      "Extracting and downsampling... 391  frames from the video.\n"
     ]
    },
    {
     "name": "stderr",
     "output_type": "stream",
     "text": [
      "391it [00:16, 24.24it/s]\n"
     ]
    },
    {
     "name": "stdout",
     "output_type": "stream",
     "text": [
      "Kmeans clustering ... (this might take a while)\n",
      "Frame 3900  not found!\n",
      "Extracting frames based on kmeans ...\n",
      "Kmeans-quantization based extracting of frames from 0.0  seconds to 130.1  seconds.\n",
      "Extracting and downsampling... 391  frames from the video.\n"
     ]
    },
    {
     "name": "stderr",
     "output_type": "stream",
     "text": [
      "391it [00:15, 24.82it/s]\n"
     ]
    },
    {
     "name": "stdout",
     "output_type": "stream",
     "text": [
      "Kmeans clustering ... (this might take a while)\n",
      "Extracting frames based on kmeans ...\n",
      "Kmeans-quantization based extracting of frames from 0.0  seconds to 130.1  seconds.\n",
      "Extracting and downsampling... 391  frames from the video.\n"
     ]
    },
    {
     "name": "stderr",
     "output_type": "stream",
     "text": [
      "391it [00:15, 24.67it/s]\n"
     ]
    },
    {
     "name": "stdout",
     "output_type": "stream",
     "text": [
      "Kmeans clustering ... (this might take a while)\n",
      "Frame 3900  not found!\n",
      "Extracting frames based on kmeans ...\n",
      "Kmeans-quantization based extracting of frames from 0.0  seconds to 130.13  seconds.\n",
      "Extracting and downsampling... 391  frames from the video.\n"
     ]
    },
    {
     "name": "stderr",
     "output_type": "stream",
     "text": [
      "391it [00:17, 21.99it/s]\n"
     ]
    },
    {
     "name": "stdout",
     "output_type": "stream",
     "text": [
      "Kmeans clustering ... (this might take a while)\n",
      "Extracting frames based on kmeans ...\n",
      "Kmeans-quantization based extracting of frames from 0.0  seconds to 130.1  seconds.\n",
      "Extracting and downsampling... 391  frames from the video.\n"
     ]
    },
    {
     "name": "stderr",
     "output_type": "stream",
     "text": [
      "391it [00:18, 21.54it/s]\n"
     ]
    },
    {
     "name": "stdout",
     "output_type": "stream",
     "text": [
      "Kmeans clustering ... (this might take a while)\n",
      "Extracting frames based on kmeans ...\n",
      "Kmeans-quantization based extracting of frames from 0.0  seconds to 130.1  seconds.\n",
      "Extracting and downsampling... 391  frames from the video.\n"
     ]
    },
    {
     "name": "stderr",
     "output_type": "stream",
     "text": [
      "391it [00:15, 25.01it/s]\n"
     ]
    },
    {
     "name": "stdout",
     "output_type": "stream",
     "text": [
      "Kmeans clustering ... (this might take a while)\n",
      "Extracting frames based on kmeans ...\n",
      "Kmeans-quantization based extracting of frames from 0.0  seconds to 130.1  seconds.\n",
      "Extracting and downsampling... 391  frames from the video.\n"
     ]
    },
    {
     "name": "stderr",
     "output_type": "stream",
     "text": [
      "391it [00:17, 22.59it/s]\n"
     ]
    },
    {
     "name": "stdout",
     "output_type": "stream",
     "text": [
      "Kmeans clustering ... (this might take a while)\n",
      "Extracting frames based on kmeans ...\n",
      "Kmeans-quantization based extracting of frames from 0.0  seconds to 130.07  seconds.\n",
      "Extracting and downsampling... 391  frames from the video.\n"
     ]
    },
    {
     "name": "stderr",
     "output_type": "stream",
     "text": [
      "391it [00:16, 24.25it/s]\n"
     ]
    },
    {
     "name": "stdout",
     "output_type": "stream",
     "text": [
      "Kmeans clustering ... (this might take a while)\n",
      "Extracting frames based on kmeans ...\n",
      "Kmeans-quantization based extracting of frames from 0.0  seconds to 130.1  seconds.\n",
      "Extracting and downsampling... 391  frames from the video.\n"
     ]
    },
    {
     "name": "stderr",
     "output_type": "stream",
     "text": [
      "391it [00:15, 24.58it/s]\n"
     ]
    },
    {
     "name": "stdout",
     "output_type": "stream",
     "text": [
      "Kmeans clustering ... (this might take a while)\n",
      "Frame 3900  not found!\n",
      "Frames were successfully extracted, for the videos listed in the config.yaml file.\n",
      "\n",
      "You can now label the frames using the function 'label_frames' (Note, you should label frames extracted from diverse videos (and many videos; we do not recommend training on single videos!)).\n"
     ]
    }
   ],
   "source": [
    "#Config_Path = r\"D:\\MTCM2.1b\\20220531\\Eye-DdM-2022-06-23\\config.yaml\"\n",
    "cluster_step = 10 # consider only every 10th frame for the kmeans\n",
    "deeplabcut.extract_frames(Config_Path, algo='kmeans', userfeedback=False, cluster_step=cluster_step , cluster_resizewidth=30, slider_width=25)\n"
   ]
  },
  {
   "cell_type": "markdown",
   "id": "1b1cfa45",
   "metadata": {},
   "source": [
    "## Label frames"
   ]
  },
  {
   "cell_type": "code",
   "execution_count": null,
   "id": "e9b18eae",
   "metadata": {},
   "outputs": [],
   "source": [
    "deeplabcut.label_frames(Config_Path)"
   ]
  },
  {
   "cell_type": "markdown",
   "id": "0e6a50f4",
   "metadata": {},
   "source": [
    "# Transfer to big computer"
   ]
  },
  {
   "cell_type": "markdown",
   "id": "d564f719",
   "metadata": {},
   "source": [
    "### Transfer Data to beegfs3"
   ]
  },
  {
   "cell_type": "code",
   "execution_count": null,
   "id": "da9fd78f",
   "metadata": {},
   "outputs": [],
   "source": [
    "#mount beegfs3 smb://beegfs3/beegfs3 or \\\\beegfs3\\beegfs3 and create user folder"
   ]
  },
  {
   "cell_type": "code",
   "execution_count": null,
   "id": "b061c374",
   "metadata": {},
   "outputs": [],
   "source": [
    "# Or transfer via atg_import"
   ]
  },
  {
   "cell_type": "code",
   "execution_count": null,
   "id": "dbd2ffe3",
   "metadata": {},
   "outputs": [],
   "source": [
    "# Move Project file to Beegfs"
   ]
  },
  {
   "cell_type": "markdown",
   "id": "0375d86e",
   "metadata": {},
   "source": [
    "### log in to hex"
   ]
  },
  {
   "cell_type": "code",
   "execution_count": null,
   "id": "67ce9760",
   "metadata": {},
   "outputs": [],
   "source": [
    "# Via atg or directly"
   ]
  },
  {
   "cell_type": "code",
   "execution_count": null,
   "id": "4ef7c860",
   "metadata": {},
   "outputs": [],
   "source": [
    "# Using terminal or x2go"
   ]
  },
  {
   "cell_type": "markdown",
   "id": "d8594860",
   "metadata": {},
   "source": [
    "### install anaconda and DLC"
   ]
  },
  {
   "cell_type": "code",
   "execution_count": null,
   "id": "c8901a0b",
   "metadata": {},
   "outputs": [],
   "source": [
    "# dowload anaconda\n",
    "# bash anconcondaFile.sh"
   ]
  },
  {
   "cell_type": "code",
   "execution_count": null,
   "id": "d3e2b1ee",
   "metadata": {},
   "outputs": [],
   "source": [
    "# dowload deeplab cut yaml file\n",
    "# remove the [gui] part from inside the file\n",
    "# Install with: conda env create -f DEEPLABCUT.yaml"
   ]
  },
  {
   "cell_type": "markdown",
   "id": "26a31023",
   "metadata": {},
   "source": [
    "### Set up build ( cuda 10.1, tensorflow 2.3 cudnn=7.6 and python=3.8 )"
   ]
  },
  {
   "cell_type": "code",
   "execution_count": null,
   "id": "38bcdd02",
   "metadata": {},
   "outputs": [],
   "source": [
    "# Activate environment\n",
    "# Install cudnn:\n",
    "# conda install cudnn==7.6 "
   ]
  },
  {
   "cell_type": "code",
   "execution_count": null,
   "id": "2863953f",
   "metadata": {},
   "outputs": [],
   "source": [
    "# Install tensorflow\n",
    "# pip install tensorflow==2.3"
   ]
  },
  {
   "cell_type": "markdown",
   "id": "9f9e4811",
   "metadata": {},
   "source": [
    "### Prepare python and bash file for server"
   ]
  },
  {
   "cell_type": "code",
   "execution_count": null,
   "id": "b628fc99",
   "metadata": {},
   "outputs": [],
   "source": [
    "# Copy DLCRoutine.py and BashScript.sh to Hex desktop"
   ]
  },
  {
   "cell_type": "code",
   "execution_count": null,
   "id": "92b20fb3",
   "metadata": {},
   "outputs": [],
   "source": [
    "# Change project path in config yml to new path : /beegfs3// + name"
   ]
  },
  {
   "cell_type": "code",
   "execution_count": null,
   "id": "beb4a773",
   "metadata": {},
   "outputs": [],
   "source": [
    "# Upate config variable in DLCroutine.py file\n",
    "# ex: config = \"/beegfs3/dmalmazet/Eye_Cropped/Eye-DdM-2021-12-10/config.yaml\""
   ]
  },
  {
   "cell_type": "code",
   "execution_count": null,
   "id": "aefdf56a",
   "metadata": {},
   "outputs": [],
   "source": [
    "# edit BashScript.sh if want to change cluster settings such as number of gpu to use"
   ]
  },
  {
   "cell_type": "markdown",
   "id": "b3aebd93",
   "metadata": {},
   "source": [
    "### Run sbatch script"
   ]
  },
  {
   "cell_type": "code",
   "execution_count": null,
   "id": "8ba29617",
   "metadata": {},
   "outputs": [],
   "source": [
    "# On Hex\n",
    "# open comand prompt\n",
    "# cd to desktop\n",
    "# Run sbatch BashScript.sh"
   ]
  },
  {
   "cell_type": "code",
   "execution_count": null,
   "id": "e2cd2be7",
   "metadata": {},
   "outputs": [],
   "source": [
    "# check cluster usage: http://nagios2/qinfo/"
   ]
  },
  {
   "cell_type": "code",
   "execution_count": null,
   "id": "6b34bf64",
   "metadata": {},
   "outputs": [],
   "source": [
    "# Rules\n",
    "# Eight GPUs in total per user (i.e. 1 full Asus GPU node, or spread thinly over several GPU nodes)."
   ]
  },
  {
   "cell_type": "markdown",
   "id": "14c1086a",
   "metadata": {},
   "source": [
    "# Back to labelling computer"
   ]
  },
  {
   "cell_type": "code",
   "execution_count": null,
   "id": "08e18983",
   "metadata": {},
   "outputs": [],
   "source": [
    "# Check results with labeled movies"
   ]
  },
  {
   "cell_type": "markdown",
   "id": "c0e05094",
   "metadata": {},
   "source": [
    "### Load Results"
   ]
  },
  {
   "cell_type": "code",
   "execution_count": null,
   "id": "126f690b",
   "metadata": {},
   "outputs": [],
   "source": [
    "import pandas as pd\n",
    "from PathGeneral_Func import GetFilePaths\n",
    "\n",
    "#% Load deeplabcut data\n",
    "DLC_Results_Dir     = r\"O:\\OneDrive - MRC Laboratory of Molecular Biology\\Resources\\Workshops\\DLC_20220916\\Data\\Results\"\n",
    "DLC_Results_Paths   = GetFilePaths(DLC_Results_Dir, 'h5')\n",
    "\n",
    "Video_Num = 0\n",
    "df = pd.read_hdf(DLC_Results_Paths[Video_Num])\n",
    "print(\"\\nLoading DLC file:\", DLC_Results_Paths[Video_Num])\n",
    "print(df.dtypes)"
   ]
  },
  {
   "cell_type": "markdown",
   "id": "027e194d",
   "metadata": {},
   "source": [
    "### Convert data into numpy array"
   ]
  },
  {
   "cell_type": "code",
   "execution_count": null,
   "id": "f4555a2c",
   "metadata": {},
   "outputs": [],
   "source": [
    "import numpy as np\n",
    "\n",
    "# Adjust to correct position\n",
    "Pos_Temporal    = df.to_numpy()[:, 0:3] # _Col_Row_Likelihood\n",
    "Pos_Bottom      = df.to_numpy()[:, 3:6]\n",
    "Pos_Nasal       = df.to_numpy()[:, 6:9]\n",
    "Pos_Top         = df.to_numpy()[:, 9:13]\n",
    "\n",
    "print(Pos_Temporal.shape)"
   ]
  },
  {
   "cell_type": "markdown",
   "id": "0215fcb1",
   "metadata": {},
   "source": [
    "### Filter data"
   ]
  },
  {
   "cell_type": "code",
   "execution_count": null,
   "id": "77fc15ca",
   "metadata": {},
   "outputs": [],
   "source": [
    "from DLC_Functions import MedianFilterPos\n",
    "\n",
    "# Median filter\n",
    "Pos_Temporal[:, :2] = MedianFilterPos(Pos_Temporal[:, :2])\n",
    "Pos_Nasal[:, :2]    = MedianFilterPos(Pos_Nasal[:, :2])\n",
    "Pos_Bottom[:, :2]   = MedianFilterPos(Pos_Bottom[:, :2])\n",
    "Pos_Top[:, :2]      = MedianFilterPos(Pos_Top[:, :2])"
   ]
  },
  {
   "cell_type": "markdown",
   "id": "5c00394b",
   "metadata": {},
   "source": [
    "### Compute Pupil centre position and diameter"
   ]
  },
  {
   "cell_type": "code",
   "execution_count": null,
   "id": "634441a3",
   "metadata": {},
   "outputs": [],
   "source": [
    "#% Pupil center\n",
    "nFrames = Pos_Temporal.shape[0]\n",
    "Pupil_centre = np.empty((nFrames, 2), dtype = np.float64)\n",
    "\n",
    "Pupil_centre[:, 0] = np.mean( np.concatenate( (Pos_Temporal[:, 0:1], Pos_Nasal[:, 0:1], Pos_Top[:, 0:1], Pos_Bottom[:, 0:1]), axis=1 ), axis=1 ) \n",
    "\n",
    "Pupil_centre[:, 1] = np.mean( np.concatenate( (Pos_Temporal[:, 1:2], Pos_Nasal[:, 1:2], Pos_Top[:, 1:2], Pos_Bottom[:, 1:2]), axis=1) , axis = 1)"
   ]
  },
  {
   "cell_type": "code",
   "execution_count": null,
   "id": "01fcf30e",
   "metadata": {},
   "outputs": [],
   "source": [
    "#% Pupil diameter\n",
    "\n",
    "#% transform to complex\n",
    "Pos_Temporal_Complex         = np.empty(nFrames, dtype=complex)\n",
    "Pos_Temporal_Complex.real    = Pos_Temporal[:,0]\n",
    "Pos_Temporal_Complex.imag    = Pos_Temporal[:,1]\n",
    "\n",
    "Pos_Nasal_Complex         = np.empty(nFrames, dtype=complex)\n",
    "Pos_Nasal_Complex.real    = Pos_Nasal[:,0]\n",
    "Pos_Nasal_Complex.imag    = Pos_Nasal[:,1]\n",
    "\n",
    "Pos_Top_Complex         = np.empty(nFrames, dtype=complex)\n",
    "Pos_Top_Complex.real    = Pos_Top[:,0]\n",
    "Pos_Top_Complex.imag    = Pos_Top[:,1]\n",
    "\n",
    "Pos_Bottom_Complex         = np.empty(nFrames, dtype=complex)\n",
    "Pos_Bottom_Complex.real    = Pos_Bottom[:,0]\n",
    "Pos_Bottom_Complex.imag    = Pos_Bottom[:,1]\n",
    "\n",
    "#% Pupil diameter\n",
    "Pupil_Diameter = ( np.abs(Pos_Temporal_Complex - Pos_Nasal_Complex) + np.abs(Pos_Top_Complex - Pos_Bottom_Complex) )/2"
   ]
  },
  {
   "cell_type": "markdown",
   "id": "ac1d1365",
   "metadata": {},
   "source": [
    "### Plot pupil diameter and pupil centre position"
   ]
  },
  {
   "cell_type": "code",
   "execution_count": null,
   "id": "bc8adda3",
   "metadata": {},
   "outputs": [],
   "source": [
    "import matplotlib.pyplot as plt\n",
    "%matplotlib qt"
   ]
  },
  {
   "cell_type": "code",
   "execution_count": null,
   "id": "9f01e773",
   "metadata": {},
   "outputs": [],
   "source": [
    "# Plot pupil diameter and pupil centre position\n",
    "#%  Plot\n",
    "fig, ax = plt.subplots(nrows=3, ncols=1, sharex=True)\n",
    "\n",
    "ax[0].plot(Pupil_Diameter)\n",
    "ax[0].set_title('Pupil diameter')\n",
    "\n",
    "ax[1].plot(Pupil_centre[:, 0])\n",
    "ax[1].set_title('Col')\n",
    "\n",
    "ax[2].plot(Pupil_centre[:, 1])\n",
    "ax[2].set_title('row')"
   ]
  },
  {
   "cell_type": "markdown",
   "id": "54e98f4f",
   "metadata": {},
   "source": [
    "# Extra"
   ]
  },
  {
   "cell_type": "code",
   "execution_count": null,
   "id": "062d7532",
   "metadata": {},
   "outputs": [],
   "source": [
    "# Refine\n",
    "deeplabcut.extract_outlier_frames(Config_Path , Videos , outlieralgorithm='manual', comparisonbodyparts='Cricket')\n",
    "\n",
    "deeplabcut.refine_labels(Config_Path)\n",
    "\n",
    "deeplabcut.merge_datasets(Config_Path)"
   ]
  }
 ],
 "metadata": {
  "kernelspec": {
   "display_name": "Python [conda env:.conda-DEEPLABCUT] *",
   "language": "python",
   "name": "conda-env-.conda-DEEPLABCUT-py"
  },
  "language_info": {
   "codemirror_mode": {
    "name": "ipython",
    "version": 3
   },
   "file_extension": ".py",
   "mimetype": "text/x-python",
   "name": "python",
   "nbconvert_exporter": "python",
   "pygments_lexer": "ipython3",
   "version": "3.8.13"
  }
 },
 "nbformat": 4,
 "nbformat_minor": 5
}
